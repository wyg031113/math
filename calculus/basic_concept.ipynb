{
 "cells": [
  {
   "cell_type": "markdown",
   "id": "ce3349aa",
   "metadata": {},
   "source": [
    "# 基本概念\n",
    "\n",
    "## 总纲\n",
    "- 基本概念：集合，数列，映射，函数，极限，导数，微分\n",
    "- 【无穷小、无穷大、 函数、数列】的【和、差、积、商、反函数、复合函数、】的【收敛，极限，连续，最大最小值，介值中值】\n",
    "- 如何求收敛，极限，导数：定理，准则，等价无穷小\n",
    "- 推广到多元函数与矩阵结合"
   ]
  },
  {
   "cell_type": "markdown",
   "id": "52414819",
   "metadata": {},
   "source": [
    "## 集合\n",
    "集合是非常基础的概念。需要ZFC公理系统去定义。这里不做详细定义。\n",
    "- 用大写字母表示A,B,C...表示集合\n",
    "- 小写拉丁字母a,b,c...表示集合的元素\n",
    "- $A=\\{a_1,a_2,...,a_n\\}$大括号表示集合\n",
    "- $M={x|P(x)}$ P是命题。表示命题为真的所有x组成一个集合。\n",
    "- 空集$\\emptyset$\n",
    "- 自然数$N$, 正整数$N^+$, 除0外的整数$N^*$, 整数$Z$, 有理数$Q$, 实数$R$, 正实数$R^+$\n",
    "- 集合中的元素不能重\n",
    "- 集合相等就是集合中的元素相同\n",
    "- 集合运算并交差补，包含：$A\\cup B,A\\cap B, A-B,A^c,A$包含$B:A \\subset B$\n",
    "- 属于：$a \\in A$\n",
    "- $A \\times B = \\{(x,y)|x\\in A, y\\in B\\}$\n",
    "- $R \\times R = R^2$\n",
    "\n",
    "## 坐标\n",
    "- $(x,y)，x\\in R, y\\in R$ 是笛卡尔直角坐标系里的一个点\n",
    "- $\\{(x,y)|x\\in R, y\\in R\\}$就表示所有坐标点的集合\n",
    "\n",
    "### 运算律\n",
    "- 交换律\n",
    "- 结合律\n",
    "- 分配律\n",
    "- 对偶律\n",
    "\n",
    "### 区间和邻域\n",
    " - $a,b\\in R,\\{x|a<x<b\\}$记作$(a,b)$，叫开区间, $a\\notin (a,b), b\\notin (a,b)$\n",
    " - $a,b\\in R,\\{x|a\\le x \\le b\\}$记作$[a,b]$，叫闭区间, $a\\in [a,b], b\\in [a,b]$\n",
    " - $a,b\\in R,\\{x|a\\le x<b\\}$记作$[a,b)$，叫左开右闭区间, $a\\in [a,b), b\\notin [a,b)$\n",
    " - $a,b\\in R,\\{x|a<x\\le b\\}$记作$(a,b]$，叫左闭右开区间,  $a\\notin (a,b], b\\in (a,b]$"
   ]
  },
  {
   "cell_type": "markdown",
   "id": "381a006b",
   "metadata": {},
   "source": [
    "## 映射\n",
    "### 条件\n",
    "- X，Y是集合\n",
    "- $X \\ne \\emptyset \\wedge Y \\ne \\emptyset$ \n",
    "- $\\exists f, \\forall x \\in X, \\exists! y \\in Y \\rightarrow y=f(x)$ 记作 $f:X\\rightarrow Y$\n",
    "- f是一种映射法则，这里没给出清晰的定义，任意映射法则\n",
    "\n",
    "### 结论\n",
    "- y是x的像\n",
    "- x是y的原像\n",
    "- X是f的定义域：$D_f=X$\n",
    "- Y是f的值域：$R_f=f(X)=\\{f(x)|x\\in X\\} \\subset Y$\n",
    "- x的像y是存在且唯一\n",
    "- y的原像x可能不存在，可以不唯一\n",
    "\n",
    "## 逆映射\n",
    "### 条件\n",
    "- $f:X\\rightarrow Y$\n",
    "- $g:R_f\\rightarrow X$\n",
    "- $\\forall x \\in X \\rightarrow y=f(x), y\\in R_f$\n",
    "- $\\forall y \\in R_f \\rightarrow x=g(y), x \\in D_f$\n",
    "\n",
    "### 结论\n",
    "- g是f的逆映射，记作$f^{-1}$\n",
    "\n",
    "## 复合映射\n",
    "### 条件\n",
    "- $g:X\\rightarrow Y_1$\n",
    "- $f:Y_2\\rightarrow Z$\n",
    "- $Y_1 \\subset Y_2$\n",
    "- $\\forall x \\in X \\rightarrow f[g(x)] \\in Z$\n",
    "\n",
    "### 结论\n",
    "- $f\\circ g:X\\rightarrow Z$称作复合映射\n",
    "- $z=(f\\circ g)(x) = f[g(x)], x\\in X, z\\in Z$"
   ]
  },
  {
   "cell_type": "markdown",
   "id": "ee2b8b32",
   "metadata": {},
   "source": [
    "## 函数\n",
    "- $f:R\\rightarrow R$称为函数\n",
    "- 定义域和值域都是实数集R的子集 $D\\subset R, R_f \\subset R$\n",
    "\n",
    "### 初等函数\n",
    "- 线性函数：$y=kx+b$\n",
    "- 幂函数：$y=x^a$\n",
    "- 三角函数: $y=sin(x), y=cos(x), y=tan(x), y=arcsin(x), y=arccos(x), y=arctan(x)$\n",
    "- 指数：$y = a^x(a>0 \\wedge a \\ne 1)$\n",
    "- 对数：$y = log_a(x)(a>0 \\wedge a \\ne 1); a=e \\rightarrow ln_x$\n",
    "- $y=e^x$, 双曲正弦：$sh x = \\frac{e_x-e_{-x}}{2}$, 双曲余弦：$ch x = \\frac{e_x+e_{-x}}{2}$, 双曲正切：$th x = \\frac{sh x}{ch x} = \\frac{e_x-e_{-x}}{e_x+e_{-x}}$\n",
    "\n",
    "### 函数有界性\n",
    "#### 条件\n",
    "- $f(x)$是函数，定义域：$D$, 值域:$R_f$\n",
    "- $\\exists K_1 \\forall x \\in D \\wedge f(x) \\le K_1$\n",
    "- $\\exists K_2 \\forall x \\in D \\wedge f(x) \\ge K_2$\n",
    "\n",
    "#### 结论\n",
    "- K_1是f(x)的上界\n",
    "- K_2是f(x)的下界\n",
    "- $|f(x)| <= M=max(|K_1|,|K_2|)$\n",
    "\n",
    "### 函数单调性\n",
    "#### 条件\n",
    "- $f(x), D, R_f$\n",
    "- $\\forall x_1,x_2 \\in X, x_1 < x_2 \\wedge f(x_1) < f(x_2)$\n",
    "\n",
    "#### 结论\n",
    "- f(x)单调递增\n",
    "\n",
    "### 函数的奇偶性\n",
    "- 奇函数$f(-x)=-f(x)$\n",
    "- 偶函数$f(-x)=f(x)$\n",
    "\n",
    "### 函数的周期性\n",
    "- $f(x+T) = f(x)$ : T是f的周期\n",
    "\n",
    "### 反函数\n",
    "- f(x) 的反函数 f^{-1}(x)\n",
    "\n",
    "### 复合函数\n",
    "- $(g\\circ f)(x) = g[f(x)]$\n",
    "\n",
    "### 函数的和差积商\n",
    "- $(f+g)(x) \\rightarrow f(x)+g(x), x\\in D$\n",
    "- $(f-g)(x) \\rightarrow f(x)-g(x), x \\in D$\n",
    "- $(f\\times g)(x) \\rightarrow f(x)\\times g(x), x\\in D $\n",
    "- $(\\frac{f}{g})(x) \\rightarrow \\frac{f(x)}{g(x)}, x\\in D-\\{x|g(x)=0,x\\in D\\}$"
   ]
  },
  {
   "cell_type": "markdown",
   "id": "c887b606",
   "metadata": {},
   "source": [
    "## 数列\n",
    "### 条件\n",
    "- $y=f(x), x\\in N^+, y\\in R$\n",
    "- $\\exists f(x) \\wedge \\forall x>1, \\exists f(x-1)$\n",
    "\n",
    "### 结论\n",
    "- $f(1),f(2),...,f(n), ..$称为数列，记作:$x_1, x_2,...,x_n...$ \n",
    "- 用集合$\\{x_n\\}, n=1,2,3...$表示数列\n",
    "- $x_n$称作数列的通项"
   ]
  },
  {
   "cell_type": "markdown",
   "id": "d5f78971",
   "metadata": {},
   "source": [
    "## 数列的极限\n",
    "### 条件\n",
    "- $\\{x_n\\}$是数列\n",
    "- $\\forall \\epsilon \\exists (N\\in N^+), n > N \\rightarrow \\exists A \\wedge |x_n-A| \\lt \\epsilon, A\\in R, A$是一个常数\n",
    "\n",
    "### 结论\n",
    "- $A是n\\rightarrow \\infty$时的极限，记作：$\\lim\\limits_{n\\rightarrow \\infty}x_n=A$\n",
    "- 数列${x_n}$收敛于A"
   ]
  },
  {
   "cell_type": "markdown",
   "id": "da2da6c2",
   "metadata": {},
   "source": [
    "## 收敛数列\n",
    "### 条件\n",
    "- ${x_n}$是收敛数列，也就是极限存在：$\\lim\\limits_{n\\rightarrow \\infty}x_n=A$\n",
    "\n",
    "### 结论\n",
    "- 极限唯一\n",
    "- ${x_n}有界 \\leftrightarrow \\exists M, |x_n| \\le M, M=max\\{|x_1|,|x_2|,...,|x_N|, A\\}$\n",
    "- 保号性：$A>0 \\wedge n>N \\rightarrow \\forall x_n, x_n > 0 $\n",
    "- 保号性逆定理：$\\forall n > N_1 \\wedge x_n > 0 \\rightarrow A > 0$\n",
    "- 收敛数列的子数列也收敛于A"
   ]
  },
  {
   "cell_type": "markdown",
   "id": "37861ca5",
   "metadata": {},
   "source": [
    "## 函数的极限\n",
    "### $x\\rightarrow x_0$的极限\n",
    "#### 条件\n",
    "- f(x)是函数\n",
    "- $\\forall \\epsilon \\exists \\delta \\wedge 0<|x-x_0|<\\delta \\rightarrow \\exists A \\in R \\wedge |f(x)-A| < \\epsilon $\n",
    "\n",
    "#### 结论\n",
    "- A是f(x)在x趋于$x_0$时的极限,记作:$\\lim\\limits_{x\\rightarrow x_0}f(x) = A$\n",
    "\n",
    "### $x\\rightarrow \\infty$的极限\n",
    "#### 条件\n",
    "- f(x)是函数\n",
    "- $\\forall \\epsilon \\ \\exists \\delta \\wedge \\exists M\\in R^+, |x| > M \\rightarrow \\exists A \\wedge  |f(x)-A| < \\epsilon $\n",
    "\n",
    "#### 结论\n",
    "- A是f(x)在x趋于无穷大时的极限,记作:$\\lim\\limits_{x\\rightarrow \\infty}f(x) = A$\n",
    "\n",
    "## 函数极限的性质\n",
    "### 条件\n",
    "- f(x)极限存在\n",
    "\n",
    "### 结论\n",
    "- 极限唯一\n",
    "- 局部有界性\n",
    "- 局部保号性\n",
    "- $\\exists \\mathring{U} \\wedge x \\in \\mathring{U} \\wedge |f(x)| > \\frac{A}{2} \\wedge |f(x)| < \\frac{3A}{2}$\n",
    "- 函数列极限：$\\lim\\limits_{x\\rightarrow x_0}f(x) = A \\wedge \\lim\\limits_{n\\rightarrow\\infty}x_n = x_0 \\wedge x_n \\ne x_0 \\rightarrow \\lim\\limits_{n\\rightarrow \\infty}f(x_n) = A$"
   ]
  },
  {
   "cell_type": "markdown",
   "id": "c4d25db5",
   "metadata": {},
   "source": [
    "## 无穷小\n",
    "### 条件\n",
    "- $\\lim\\limits_{x\\rightarrow x_0}f(x) = 0$\n",
    "\n",
    "### 结论\n",
    "- f(x)是x趋于$x_0$时的无穷小\n",
    "- $\\alpha$表示无穷小\n",
    "- 0是无穷小\n",
    "\n",
    "### 条件\n",
    "- $\\lim\\limits_{x\\rightarrow \\infty}f(x) = 0$\n",
    "\n",
    "### 结论\n",
    "- f(x)是x趋于$\\infty$时的无穷小\n",
    "\n",
    "### 定理\n",
    "- $f(x)$极限是$A \\leftrightarrow f(x)=A+\\alpha$"
   ]
  },
  {
   "cell_type": "markdown",
   "id": "bf13c8a7",
   "metadata": {},
   "source": [
    "## 无穷大\n",
    "### 条件\n",
    "- f(x)是函数\n",
    "- $\\exists x \\in \\mathring{U} \\subset D, \\forall M \\in R_+, \\exists \\delta, 0<|x-x_0|<\\delta \\rightarrow |f(x)| > M$\n",
    "\n",
    "### 结论\n",
    "- f(x)是x趋于$x_0$时的无穷大，用$\\infty表示$\n",
    "\n",
    "### 条件\n",
    "- f(x)是函数\n",
    "- $\\exists x \\in \\mathring{U} \\subset D, \\forall M \\in R_+, \\exists X \\in R, |x| > X \\rightarrow |f(x)| > M$\n",
    "\n",
    "### 结论\n",
    "- f(x)是x趋于$\\infty$时的无穷大，用$\\infty$表示\n",
    "\n",
    "### 定理\n",
    "- $f(x)$是无穷小, $f(x)\\ne 0 \\rightarrow \\frac{1}{f(x)}$是无穷大\n",
    "- $f(x)$是无穷大,$\\rightarrow \\frac{1}{f(x)}$是无穷小\n",
    "- $\\alpha = \\frac{1}{\\infty}$"
   ]
  },
  {
   "cell_type": "markdown",
   "id": "8c7faa83",
   "metadata": {},
   "source": [
    "## 极限运算法则\n",
    "- 有限个无穷小的和还是无穷小\n",
    "- 有界函数与无穷中的积是无穷小\n",
    "- 常数与无穷小的积是无穷小\n",
    "- 有限个无穷小的积是无穷小\n",
    "- $\\lim\\limits f(x) = A \\wedge \\lim\\limits g(x) = B \\rightarrow \\lim{[f(x)\\pm g(x)]} = A \\pm B$\n",
    "- $\\lim\\limits f(x) = A \\wedge \\lim\\limits g(x) = B \\rightarrow \\lim{[f(x)*g(x)]}=A\\bullet B$\n",
    "- $\\lim\\limits f(x) = A \\wedge \\lim\\limits g(x) = B \\wedge B \\ne 0 \\rightarrow \\lim{[\\frac{f(x)}{g(x)}]} =\\frac{A}{B}$\n",
    "- $\\lim{f(x)=A} \\wedge c$是常数 $\\rightarrow \\lim{[cf(x)]} = c\\lim{f(x)}$\n",
    "- $\\lim{f(x)=A} \\wedge c \\in N^+ \\rightarrow \\lim{[f(x)]^n} = [\\lim{f(x)}]^n$\n",
    "- $\\lim\\limits f(x) = A \\wedge \\lim\\limits g(x) = B \\wedge f(x) \\ge g(x) \\rightarrow A\\ge B$\n",
    "- 数列上述定理也成立\n",
    "\n",
    "### 复合函数极限\n",
    "#### 条件\n",
    "- $y=f[g(x)]$由$u=g(x), y=f(u)$复合而成\n",
    "- $f[g(x)]$在 $x_0$的去心邻域内有定义\n",
    "- $\\lim\\limits_{x\\rightarrow x_0}g(x)=u_0$\n",
    "- $\\lim\\limits_{u\\rightarrow u_0}f(u)=A$\n",
    "- $\\exists \\delta_0, x\\in \\mathring{U}(x_0, \\delta_0) \\rightarrow f(x) \\ne u_0$\n",
    "\n",
    "### 结论\n",
    "- $\\lim\\limits_{x\\rightarrow x_0}f[g(x)] = \\lim\\limits_{u\\rightarrow u_0}f(u) = A$"
   ]
  },
  {
   "cell_type": "markdown",
   "id": "ab6e3e84",
   "metadata": {},
   "source": [
    "## 极限存在准则\n",
    "### 夹逼准则\n",
    "#### 条件\n",
    "- $\\{x_n\\},\\{y_n\\},\\{z_n\\}$是数列\n",
    "- $\\exists n_0 \\in N, n > n_0 \\rightarrow y_n \\le x_n \\le z_n$\n",
    "- $\\lim\\limits_{n\\rightarrow \\infty}y_n=a, \\lim\\limits_{n\\rightarrow\\infty}z_n=a$\n",
    "\n",
    "#### 结论\n",
    "- $\\lim\\limits_{n\\rightarrow\\infty}x_n=a$\n",
    "\n",
    "\n",
    "#### 条件\n",
    "- $f(x),g(x),h(x)$是函数\n",
    "- $x\\in\\mathring{U}(x_0, r) \\rightarrow g(x) \\le f(x) \\le h(x)$\n",
    "- $\\lim\\limits_{x\\rightarrow x_0}g(x)=A, \\lim\\limits_{x\\rightarrow x_0}h(x)=A$\n",
    "\n",
    "#### 结论\n",
    "- $\\lim\\limits_{x\\rightarrow x_0}f(x)=A$\n",
    "\n",
    "\n",
    "#### 条件\n",
    "- $f(x),g(x),h(x)$是函数\n",
    "- $|x| > M\\in R^+ \\rightarrow g(x) \\le f(x) \\le h(x)$\n",
    "- $\\lim\\limits_{x\\rightarrow \\infty}g(x)=A, \\lim\\limits_{x\\rightarrow \\infty}h(x)=A$\n",
    "\n",
    "#### 结论\n",
    "- $\\lim\\limits_{x\\rightarrow \\infty}f(x)=A$\n"
   ]
  },
  {
   "cell_type": "markdown",
   "id": "a6f704e2",
   "metadata": {},
   "source": [
    "## 重要极限\n",
    "- $\\lim\\limits_{x\\rightarrow 0}\\frac{sinx}{x}=1$\n",
    "- 单调有界数列必有极限\n",
    "- $\\lim\\limits_{n\\rightarrow \\infty}(1+\\frac{1}{n})^n = e$\n",
    "- $\\lim\\limits_{x\\rightarrow 0}(1+\\frac{1}{x})^x = e$\n",
    "- 柯西极限存在法则 数列${x_n}$收敛 $\\leftrightarrow \\forall \\epsilon \\exists N\\in N^+, m>N, n>N \\rightarrow |x_n-x_m|<\\epsilon$"
   ]
  },
  {
   "cell_type": "markdown",
   "id": "73c9eb75",
   "metadata": {},
   "source": [
    "## 无穷小的比较\n",
    "\n",
    "- 定义$\\lim\\frac{\\beta}{\\alpha}=0 \\rightarrow \\beta$是$\\alpha$的高阶无穷小，记作$\\beta=\\circ(\\alpha)$\n",
    "- 定义$\\lim\\frac{\\beta}{\\alpha}=\\infty \\rightarrow \\beta$是$\\alpha$的低阶无穷小)\n",
    "- 定义$\\lim\\frac{\\beta}{\\alpha}=c\\ne 0 \\rightarrow \\beta$是$\\alpha$的同阶无穷小\n",
    "- 定义$\\lim\\frac{\\beta}{\\alpha^k}=c \\ne 0 \\rightarrow \\beta$是$\\alpha$的k阶无穷小\n",
    "- 定义$\\lim\\frac{\\beta}{\\alpha}=1 \\rightarrow \\beta$是$\\alpha$的等价无穷小，记作$\\beta\\sim\\alpha$\n",
    "\n",
    "### 定理\n",
    "- $\\beta\\sim\\alpha \\leftrightarrow \\beta=\\alpha+\\circ(\\alpha)$\n",
    "- $\\alpha\\sim\\alpha', \\beta\\sim\\beta', \\lim\\frac{\\beta'}{\\alpha'}=A \\rightarrow \\lim\\frac{\\beta}{\\alpha}=A$"
   ]
  },
  {
   "cell_type": "markdown",
   "id": "9066e8d8",
   "metadata": {},
   "source": [
    "## 函数的连续性与间断点\n",
    "\n",
    "### 函数连续\n",
    "在某一点是否连续，在区间内任意一点是否连续\n",
    "#### 条件\n",
    "- y=f(x)在$x_0$的某一去心邻域内有定义\n",
    "- $\\lim\\limits_{\\Delta x \\rightarrow 0}\\Delta y = \\lim\\limits_{\\Delta x \\rightarrow 0}[f(x_0+\\Delta x)-f(x_0)] = 0$\n",
    "- $\\lim\\limits_{x \\rightarrow x_0}=f(x_0)$\n",
    "\n",
    "#### 结论\n",
    "- f(x)在$x_0$处连续\n",
    "\n",
    "### 函数的间断点\n",
    "- $x=x_0$无定义\n",
    "- $x=x_0$有定义，但极限不存在\n",
    "- $x=x_0$有定义，但极限不等于f(x_0)\n",
    "- 无穷间断点：极限为无穷大\n",
    "- 振荡间断点：极限不存在，且变化无数次\n",
    "- 跳跃间断点\n",
    "- 可去间断点"
   ]
  },
  {
   "cell_type": "markdown",
   "id": "c713277b",
   "metadata": {},
   "source": [
    "## 连续函数的和差积商，反函数，复合函数的连续性\n",
    "也都连续，注意定义域的变化，取值为0的情况。 "
   ]
  },
  {
   "cell_type": "markdown",
   "id": "560eb381",
   "metadata": {},
   "source": [
    "## 闭区间上连续函数必然 有界，有最大值，有最小值\n"
   ]
  },
  {
   "cell_type": "markdown",
   "id": "d7b66e47",
   "metadata": {},
   "source": [
    "## 零点定理\n",
    "### 条件\n",
    "- $f(x)$在闭区间$[a,b]$上连续\n",
    "- $f(a)*f(b) < 0; f(a),f(b)$异号\n",
    "\n",
    "### 结论\n",
    "- $\\exists \\xi \\in (a,b), f(\\xi)=0$"
   ]
  },
  {
   "cell_type": "markdown",
   "id": "f39b68c4",
   "metadata": {},
   "source": [
    "## 介值定理\n",
    "### 条件\n",
    "- $f(x)$在闭区间$[a,b]$上连续\n",
    "- $f(a) = A, f(b)=B$异号\n",
    "\n",
    "### 结论\n",
    "- $\\forall C in (A,B) \\exists \\xi \\in (a,b), f(\\xi)=C$\n",
    "- 闭区间上连续的函数能取到介于最大值和最小值之间的任意值"
   ]
  },
  {
   "cell_type": "markdown",
   "id": "df0abae2",
   "metadata": {},
   "source": [
    "## 一致连续\n",
    "### 条件\n",
    "- f(x)是函数， D_f=I\n",
    "- $\\forall \\epsilon \\in R^+ \\ \\exists \\delta \\in R^+, \\forall x_1, x_2\\ |x_1-x_2|<\\delta \\rightarrow |f(x_1)-f(x_2)| < \\epsilon$\n",
    "\n",
    "### 结论\n",
    "- f(x)一致连续\n",
    "\n",
    "### 定理\n",
    "- 一致连续必然连续，反之不是\n",
    "- $f(x)$在闭区间$[a,b]$上连续，则在$[a,b]$上一致连续。 开区间就不行。"
   ]
  },
  {
   "cell_type": "markdown",
   "id": "4cc6673e",
   "metadata": {},
   "source": [
    "## 导数\n",
    "### 条件\n",
    "- $y=f(x)$在$x_0$的某个邻域内有定义\n",
    "- $\\lim\\limits_{\\Delta \\rightarrow 0}\\frac{\\Delta y}{\\Delta x} = \\lim\\limits_{\\Delta \\rightarrow 0}\\frac{f(x_0+\\Delta x) - f(x_0)}{(x_0+\\Delta x)-x_0} = A$ 极限存在\n",
    "\n",
    "### 结论\n",
    "- A称为f(x)在$x_0$处的导数，记作$$y'|_{x=x_0}=f'(x_0)=\\frac{dy}{dx}|_{x=x_0}=\\frac{df(x)}{dx}|_{x=x_0}$$\n",
    "- 其他形式\n",
    "$$f'(x_0)=\\lim\\limits_{h\\rightarrow 0}\\frac{f(x_0+h)-f(x_0)}{h}$$\n",
    "$$f'(x_0)=\\lim\\limits_{x\\rightarrow x_0}\\frac{f(x)-f(x_0)}{x-x_0}$$\n",
    "- 导数是一个数字，是$x=x_0$处对应的$f'(x_0)$, f(x)在定义域内任意一点的导数$f'(x) x\\in D_f$也是一个函数，称为f的导函数：\n",
    "$$y'=\\lim\\limits_{\\Delta x \\rightarrow 0}\\frac{f(x+\\Delta x)-f(x)}{\\Delta x}$$\n",
    "- 左导数，右导数\n",
    "\n",
    "### 定理\n",
    "- 可导必连续"
   ]
  },
  {
   "cell_type": "markdown",
   "id": "af590a9c",
   "metadata": {},
   "source": [
    "## 求导方法 函数和差积商、反函数、复合函数的求导法则\n",
    "- 和差的导数 $[u(x)\\pm v(x)]'=u'(x) \\pm v'(x)$\n",
    "- 积的导数$[u(x)v(x)]'=u'(x)v(x) + u(x)v'(x)$\n",
    "- 商的导数$[\\frac{u(x)}{v(x)}]'=\\frac{u'(x)v(x)-u(x)v'(x)}{v^2(x)}, v(x) \\ne 0$\n",
    "- 反函数的导数是原函数导数的倒数$x=f(y), y=f'(x)\\rightarrow [f^{-1}(x)]' = \\frac{1}{f'(y)} 或 \\frac{dy}{dx} = \\frac{1}{\\frac{dx}{dy}}$\n",
    "- 复合函数链式求导 $u=g(x), y=f(u), y=f[g(x)]$在x点可导，$\\frac{dy}{dx}=f'(u)g'(x)$ 或$\\frac{dy}{dx}=\\frac{dy}{du}\\bullet\\frac{du}{dx}$"
   ]
  },
  {
   "cell_type": "markdown",
   "id": "ef59f4cd",
   "metadata": {},
   "source": [
    "## 求导公式\n",
    "- $(C)'=0$ \n",
    "- $(x^\\mu)'=\\mu x^{\\mu-1}$\n",
    "- $(sin x)'=cos x ,\\ (cos x)'=-sin x , \\ (tan x)'=sec^2x$\n",
    "- $(cot x)'=-csc^2x, \\ (sec\\ x)'=sec\\ x\\ tan x, \\ (csc x)'=-csc\\ x\\ cot\\ x$\n",
    "- $(a^x)'=a^xln\\ a$\n",
    "- $(e^x)'=e^x$\n",
    "- $(log_ax)'=\\frac{1}{x ln\\ a}$\n",
    "- $(lnx)'=\\frac{1}{x}$\n",
    "- $(arcsin\\ x)' = \\frac{1}{\\sqrt{1-x^2}}$\n",
    "- $(arccos\\ x)' = -\\frac{1}{\\sqrt{1-x^2}}$\n",
    "- $(arctan\\ x)' = \\frac{1}{\\sqrt{1+x^2}}$\n",
    "- $(arccot\\ x)' = -\\frac{1}{\\sqrt{1+x^2}}$\n",
    "- $u=u(x),v=v(x)$\n",
    "- $(u\\pm v)'=u'\\pm v'$\n",
    "- $(Cu)'=Cu'$\n",
    "- $(uv)'=u'v+uv'$\n",
    "- $(\\frac{u}{v})'=\\frac{u'v-uv'}{v^2},v\\ne 0$\n",
    "- $[f^{-1}(x)]' = \\frac{1}{f'(y)} 或 \\frac{dy}{dx} = \\frac{1}{\\frac{dx}{dy}}$\n",
    "- $\\frac{dy}{dx}=\\frac{dy}{du}\\bullet\\frac{du}{dx}$"
   ]
  },
  {
   "cell_type": "markdown",
   "id": "dbee34ab",
   "metadata": {},
   "source": [
    "## 高阶导数\n",
    "- 二阶导数 $y''=(y')' 或 \\frac{d^2y}{dx^2}=\\frac{d}{dx}(\\frac{dy}{dx})$"
   ]
  },
  {
   "cell_type": "markdown",
   "id": "7671a652",
   "metadata": {},
   "source": [
    "## 隐函数，参数方程的导数， 相关变化率\n",
    "- 隐函数：$y=x^{sin\\ x} \\rightarrow lny=sin\\ x\\ lnx \\rightarrow (lny)'=(sin\\ x\\ lnx)' \\rightarrow \\frac{y'}\n",
    "{y}=cos\\ x\\ lnx + sin\\ x\\bullet\\frac{1}{x} $\n",
    "- 参数方程：$x=\\varphi(t), y=\\phi(t), \\frac{dy}{dx}=\\frac{dy}{dt}\\frac{dt}{dx}=\\frac{\\phi'}{\\varphi'}$\n",
    "- 相关变化率"
   ]
  },
  {
   "cell_type": "markdown",
   "id": "1ad7b778",
   "metadata": {},
   "source": [
    "## 微分\n",
    "### 条件\n",
    "- $y=f(x)$在某区间(a,b)内有定义\n",
    "- $x_0\\in (a,b) \\wedge x_0+\\Delta x \\in (a,b)$\n",
    "- $\\exists A$ 是常数，$\\Delta y=f(x_0+\\Delta x)-f(x_0)=A\\Delta x + o(\\Delta x)$\n",
    "\n",
    "### 结论\n",
    "- $y=f(x)$在$x_0$处可微\n",
    "- $A\\Delta x$ 是y在$x_0$处相应于自变量$\\Delta x$的微分, 记作dy\n",
    "- $dy=A\\Delta x$\n",
    "- $\\frac{\\Delta y}{\\Delta x} = A + \\frac{o(\\Delta x)}{\\Delta x}$\n",
    "- $(\\Delta x \\rightarrow 0) \\rightarrow A=\\lim\\limits_{\\Delta x \\rightarrow 0}\\frac{\\Delta y}{\\Delta x}=f'(x_0)$\n",
    "\n",
    "### 定理\n",
    "- 可微的充要条件是可导：$dy=f'(x_0)\\Delta x$"
   ]
  },
  {
   "cell_type": "markdown",
   "id": "2e817c8e",
   "metadata": {},
   "source": [
    "## 微分公式\n",
    "- $d(x^\\mu)=\\mu x^{\\mu-1}dx$\n",
    "- $d(sin x)=cos\\ x\\ dx ,\\ d(cos x)=-sin x\\ dx , \\ d(tan x)=sec^2x\\ dx$\n",
    "- $d(cot x)=-csc^2x\\ dx, \\ d(sec\\ x)=sec\\ x\\ tan x\\ dx, \\ d(csc x)=-csc\\ x\\ cot\\ x\\ dx$\n",
    "- $d(a^x)=a^xln\\ a\\ dx$\n",
    "- $d(e^x)=e^x \\ dx$\n",
    "- $d(log_ax)=\\frac{1}{x ln\\ a}dx$\n",
    "- $d(lnx)=\\frac{1}{x}dx$\n",
    "- $d(arcsin\\ x) = \\frac{1}{\\sqrt{1-x^2}}dx$\n",
    "- $d(arccos\\ x) = -\\frac{1}{\\sqrt{1-x^2}}dx$\n",
    "- $d(arctan\\ x) = \\frac{1}{\\sqrt{1+x^2}}dx$\n",
    "- $d(arccot\\ x) = -\\frac{1}{\\sqrt{1+x^2}}dx$\n",
    "- $u=u(x),v=v(x)$\n",
    "- $d(u\\pm v)=du\\pm dv$\n",
    "- $d(Cu)=Cdu$\n",
    "- $d(uv)=vdu+udv$\n",
    "- $d(\\frac{u}{v})=\\frac{vdu-udv}{v^2},v\\ne 0$\n",
    "- $d[f^{-1}(x)] = \\frac{1}{df(y)} 或 \\frac{dy}{dx} = \\frac{1}{\\frac{dx}{dy}}$\n",
    "- $df[g(x)]=f'(u)g'(x)dx$"
   ]
  },
  {
   "cell_type": "markdown",
   "id": "dc8653f6",
   "metadata": {},
   "source": [
    "## 微分近似公式\n",
    "- $f(x)\\approx f(x_0)+f'(x_0)(x-x_0)$\n",
    "- $\\sqrt[n]{1+x}\\approx 1+\\frac{1}{n}x$\n",
    "- $\\sin\\ x \\approx x$, x是弧度\n",
    "- $\\tan\\ x \\approx x$, x是弧度\n",
    "- $e^x \\approx 1 + x$\n",
    "- $ln(1+x) \\approx x$"
   ]
  },
  {
   "cell_type": "markdown",
   "id": "c72553ec",
   "metadata": {},
   "source": [
    "## 微分中值定理\n",
    "### 罗尔定理\n",
    "#### 条件\n",
    "- f(x)是函数\n",
    "- f(x)在[a,b]上连续\n",
    "- f(x)在(a,b)内可导\n",
    "- f(a)=f(b)\n",
    "\n",
    "#### 结论\n",
    "- $\\exists \\xi\\in(a,b)\\ f'(\\xi)=0$\n",
    "\n",
    "\n",
    "### 拉格朗日中值定理\n",
    "#### 条件\n",
    "- f(x)是函数\n",
    "- f(x)在[a,b]上连续\n",
    "- f(x)在(a,b)内可导\n",
    "\n",
    "#### 结论\n",
    "- $\\exists \\xi\\in(a,b)\\ f(b)-f(a)=f'(\\xi)(b-a)$\n",
    "\n",
    "### 定理\n",
    "- f(x)导数在区间I常为0 $\\rightarrow$f(x)在区间I上是常数\n",
    "\n",
    "### 柯西中值定理\n",
    "#### 条件\n",
    "- f(x),F(x)是函数\n",
    "- f(x)在[a,b]上连续\n",
    "- f(x)在(a,b)内可导\n",
    "- $\\forall x \\in (a,b), F'(x)\\ne 0$\n",
    "#### 结论\n",
    "- $\\exists \\xi\\in(a,b)\\ \\frac{f(b)-f(a)}{F(b)-F(a)}=\\frac{f'(\\xi)}{F'(\\xi)}$\n",
    "\n"
   ]
  },
  {
   "cell_type": "markdown",
   "id": "c75a6f10",
   "metadata": {},
   "source": [
    "## 洛必达法则\n",
    "### 条件\n",
    "- $\\lim\\limits_{x\\rightarrow a}f(x)=0 \\ \\wedge \\ \\lim\\limits_{x\\rightarrow a}F(x)=0$\n",
    "- 在a的某去心邻域内$\\exists f'(x), F'(x) \\ \\wedge \\ F'(x) \\ne 0$\n",
    "- $\\lim\\limits_{x\\rightarrow x_0}\\frac{f'(x)}{F'(x)}存在或为无穷大$\n",
    "\n",
    "### 结论\n",
    "- $\\lim\\limits_{x\\rightarrow x_0}\\frac{f(x)}{F(x)} = \\lim\\limits_{x\\rightarrow x_0}\\frac{f'(x)}{F'(x)}$\n",
    "- 可以进行多次洛必达法则\n",
    "\n",
    "### 条件\n",
    "- $\\lim\\limits_{x\\rightarrow \\infty}f(x)=0 \\ \\wedge \\ \\lim\\limits_{x\\rightarrow \\infty}F(x)=0$\n",
    "- $|x|>N \\rightarrow \\exists f'(x), F'(x) \\ \\wedge \\ F'(x) \\ne 0$\n",
    "- $\\lim\\limits_{x\\rightarrow \\infty}\\frac{f'(x)}{F'(x)}存在或为无穷大$\n",
    "\n",
    "### 结论\n",
    "- $\\lim\\limits_{x\\rightarrow \\infty}\\frac{f(x)}{F(x)} = \\lim\\limits_{x\\rightarrow \\infty}\\frac{f'(x)}{F'(x)}$\n",
    "- 可以进行多次洛必达法则\n"
   ]
  },
  {
   "cell_type": "markdown",
   "id": "b331a99e",
   "metadata": {},
   "source": [
    "## 泰勒公式\n",
    "### 条件\n",
    "- f(x)是函数\n",
    "- $x_0 \\in (a,b)$\n",
    "- $\\exists f^{(n+1)}(x)$;函数f在区间(a,b)内存在n+1阶导数\n",
    "\n",
    "### 结论\n",
    "- $\\forall x \\in (a,b), f(x) = f(x_0)+f'(x_0)(x-x_0) + \\frac{f''(x_0)}{2!}(x-x_0)^2+...+\\frac{f^{n}(x_0)}{n!}(x-x_0)^n + R_n(x)$\n",
    "- 拉格朗日型余项：$R_n(x)=\\frac{f^{n+1}(\\xi)}{(n+1)!}(x-x_0)^{n+1}, \\xi \\in (x0, x)$\n",
    "- 皮亚诺型余项：$R_n(x)=o[(x-x_0)^n]$\n",
    "- $x_0=0\\rightarrow \\xi in (0,x), 令\\xi=\\theta x \\ (0<\\theta<1)$, 此时的泰勒公式叫麦克劳林公式\n",
    "\n",
    "## 泰勒展开\n",
    "- $e^x=1+x+\\frac{x^2}{2!}+...+\\frac{x^n}{n!} + \\frac{\\theta x}{(n+1)!}$"
   ]
  },
  {
   "cell_type": "markdown",
   "id": "14df0830",
   "metadata": {},
   "source": [
    "## 函数单调性\n",
    "- 1阶导数大于0，函数单调递增\n",
    "- 1阶导数小于0，函数单调递减"
   ]
  },
  {
   "cell_type": "markdown",
   "id": "3ec3583e",
   "metadata": {},
   "source": [
    "## 曲线凹凸性\n",
    "- 2阶导数大于0，函数凹\n",
    "- 2阶导数小于0，函数凸"
   ]
  },
  {
   "cell_type": "markdown",
   "id": "79eb79d4",
   "metadata": {},
   "source": [
    "## 函数极大值与极小值， 最大值，最小值\n",
    "### 极值点导数为0\n",
    "- 一阶导数 在x_0左侧大于0，右侧小于0， f(x_0)是极大值\n",
    "- 一阶导数 在x_0左侧小于0，右侧大于0， f(x_0)是极小值\n",
    "- 二阶导数$f'(x_0)=0 \\ \\wedge \\ f''(x_0) < 0 \\rightarrow f(x_0)$是极大值\n",
    "- 二阶导数$f'(x_0)=0 \\ \\wedge \\ f''(x_0) > 0 \\rightarrow f(x_0)$是极小值\n",
    "- 最大值和最小值在(a,b)的端点f(a),f(b)和f的所有极值点中"
   ]
  },
  {
   "cell_type": "markdown",
   "id": "6ac61042",
   "metadata": {},
   "source": [
    "## 曲率\n",
    "### 弧微分\n",
    "- $ds=\\sqrt{1+y'^2}dx\\ $ s是弧长，y=f(x)是曲线的函数\n",
    "- 曲率：$K=\\lim\\limits_{\\Delta s \\rightarrow 0}|\\frac{\\Delta \\alpha}{\\Delta s}| = |\\frac{d\\alpha}{ds}|$\n",
    "- 曲率半径：$\\rho = \\frac{1}{K}$\n",
    "- 曲率圆：在曲线$f(x_0)$点做法线，法线长度为曲率半径做圆\n",
    "\n",
    "### 曲率中心，渐曲线，渐伸线"
   ]
  },
  {
   "cell_type": "markdown",
   "id": "9c44e71d",
   "metadata": {},
   "source": [
    "## 方程近似解\n",
    "- 二分法\n",
    "- 切线法"
   ]
  },
  {
   "cell_type": "markdown",
   "id": "a3efffe2",
   "metadata": {},
   "source": [
    "## 微分方程\n",
    "- 可分离变量\n",
    "- 齐次\n",
    "- 一阶线性微分方程\n",
    "- 可降阶\n",
    "- 高阶\n",
    "- 常系数齐次微分方程\n",
    "- 欧拉方程\n",
    "-"
   ]
  },
  {
   "cell_type": "markdown",
   "id": "0a971492",
   "metadata": {},
   "source": [
    "## 多元函数微分"
   ]
  },
  {
   "cell_type": "markdown",
   "id": "bc376798",
   "metadata": {},
   "source": [
    "## 偏导数"
   ]
  },
  {
   "cell_type": "markdown",
   "id": "16261860",
   "metadata": {},
   "source": [
    "## 全微分"
   ]
  },
  {
   "cell_type": "markdown",
   "id": "b5882463",
   "metadata": {},
   "source": [
    "## 多元复合函数求导法则"
   ]
  },
  {
   "cell_type": "markdown",
   "id": "9521d2b2",
   "metadata": {},
   "source": [
    "## 隐函数求导"
   ]
  },
  {
   "cell_type": "markdown",
   "id": "ca785a07",
   "metadata": {},
   "source": [
    "## 方向导数与梯度"
   ]
  },
  {
   "cell_type": "markdown",
   "id": "f84af366",
   "metadata": {},
   "source": [
    "## 多元函数的极限"
   ]
  },
  {
   "cell_type": "markdown",
   "id": "66866631",
   "metadata": {},
   "source": [
    "## 二元函数泰勒公式"
   ]
  },
  {
   "cell_type": "markdown",
   "id": "a7aa2d3d",
   "metadata": {},
   "source": [
    "## 重积分"
   ]
  },
  {
   "cell_type": "markdown",
   "id": "3a6d3d82",
   "metadata": {},
   "source": [
    "## 曲线积分与曲面积分"
   ]
  }
 ],
 "metadata": {
  "kernelspec": {
   "display_name": "Python 3 (ipykernel)",
   "language": "python",
   "name": "python3"
  },
  "language_info": {
   "codemirror_mode": {
    "name": "ipython",
    "version": 3
   },
   "file_extension": ".py",
   "mimetype": "text/x-python",
   "name": "python",
   "nbconvert_exporter": "python",
   "pygments_lexer": "ipython3",
   "version": "3.8.11"
  }
 },
 "nbformat": 4,
 "nbformat_minor": 5
}
