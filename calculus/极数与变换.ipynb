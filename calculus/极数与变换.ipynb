{
 "cells": [
  {
   "cell_type": "markdown",
   "id": "35250e07",
   "metadata": {},
   "source": [
    "# 无穷极数"
   ]
  },
  {
   "cell_type": "markdown",
   "id": "53f0818a",
   "metadata": {},
   "source": [
    "# 傅里叶，拉普拉斯，Z变换"
   ]
  },
  {
   "cell_type": "code",
   "execution_count": null,
   "id": "24c72196",
   "metadata": {},
   "outputs": [],
   "source": []
  }
 ],
 "metadata": {
  "kernelspec": {
   "display_name": "Python 3 (ipykernel)",
   "language": "python",
   "name": "python3"
  },
  "language_info": {
   "codemirror_mode": {
    "name": "ipython",
    "version": 3
   },
   "file_extension": ".py",
   "mimetype": "text/x-python",
   "name": "python",
   "nbconvert_exporter": "python",
   "pygments_lexer": "ipython3",
   "version": "3.8.11"
  }
 },
 "nbformat": 4,
 "nbformat_minor": 5
}
