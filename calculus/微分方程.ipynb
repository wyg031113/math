{
 "cells": [
  {
   "cell_type": "markdown",
   "id": "57958412",
   "metadata": {},
   "source": [
    "# 微分方程 differential equations\n",
    "含导数的方程，解是个函数。\n",
    "## 定义\n",
    "- $F(x,y,y',y'',...,y^{(n)}) = 0$ 其中 $y=f(x)$, 最高阶导数是n\n",
    "- 上述方程为微分方程，内含未知函数和未知函数导数的方程叫微分方程。 最高阶导数是微分方程的阶\n",
    "- $F(x,y)$也是微分方程\n",
    "- 如果能找到f(x)上方程F在区间I上恒等于0，则f(x)叫微分方程的解。 普通方程的解是个数，微分方程的解是个函数。\n",
    "- 如果微分方程中含有n个任意常数，则此解为微分方程的通解。\n",
    "- 通解中的常数$x=x_0, y=y_0, y'=y'_0,y''=y''_0,...,y^{n}=y^{n}_0$ 也写成$y|_{x=x_0}=y_0,y'|_{x=x_0}=y'_0,...$\n",
    "- $x_0,y_0,y'_0...$是微分方程的初始条件"
   ]
  },
  {
   "cell_type": "markdown",
   "id": "2d1a9d64",
   "metadata": {},
   "source": [
    "# 微分方程求解\n",
    "微分方程十分复杂，并不是所有微分方程都能求解。对各种形式的微分方程人们研究出了不同的解法\n",
    "## 可分离变量的微分方程\n",
    "### 形式\n",
    "- $P(x,y)dx+Q(x,y)dy = 0 \\rightarrow \\frac{dy}{dx}=-\\frac{P(x,y)}{Q(x,y)}$\n",
    "- 原微分方程可化简为：$g(y)dy=f(x)dx$左边只有y,右边只有x,则原微分方程可分离变量，通解为$G(y)=F(x)+C$\n",
    "\n",
    "## 齐次微分方程\n",
    "### 形式\n",
    "- 可化简为：$\\frac{dy}{dx}=\\varphi(\\frac{y}{x})$的微分方程\n",
    "\n",
    "## 可化为齐次的微分方程\n",
    "### 形式\n",
    "- $\\frac{ax+by+c}{a_1x+b_1y+c_1}$,令$x=X+h, y=Y+k$\n",
    "\n",
    "## 一阶线性微分方程\n",
    "### 形式\n",
    "- $\\frac{dy}{dx}+P(x)y=Q(x)$\n",
    "\n",
    "### 通解\n",
    "- 两边取对数$ln|y|=-\\int P(x)dx + C_1$\n",
    "- 通解为:$y=Ce^{\\int P(x)dx} + e^{\\int P(x)dx}\\int Q(x)e^{\\int P(x)dx}dx$"
   ]
  },
  {
   "cell_type": "markdown",
   "id": "fcf67a5c",
   "metadata": {},
   "source": [
    "## 伯努利方程\n",
    "### 形式\n",
    "- $\\frac{dy}{dx}+P(x)y=Q(x)y''\\ (n\\ne 0,1)$\n",
    "\n",
    "### 求解\n",
    "- 令$z=y^{1-n}$,代入后变成线性方程"
   ]
  },
  {
   "cell_type": "markdown",
   "id": "fb8b74a7",
   "metadata": {},
   "source": [
    "## 可降阶的高阶微分方程\n",
    "### $y^{(n)}=f(x)$\n",
    "- 两边积分n次\n",
    "\n",
    "### $y''=f(x,y')$\n",
    "- 令$y'=p$, 代入后得到一个一阶微分方程\n",
    "\n",
    "### $y''=f(y,y')$\n",
    "- 令$y'=p$, 代入后得到一个一阶微分方程"
   ]
  },
  {
   "cell_type": "markdown",
   "id": "9b386fb6",
   "metadata": {},
   "source": [
    "## 二阶线性微分方程的解\n",
    "- $y''+P(x)y'+Q(x)y = 0$\n",
    "\n",
    "### 定理\n",
    "$y_1(x),y_2(x)$是的两个解$\\rightarrow y=C_1y_1(x)+C_2y_2(x)$也是解\n",
    "$y_1(x),y_2(x)$是两个线性无关的特解$\\rightarrow y=C_1y_1(x)+C_2y_2(x)$就是通解\n",
    "- 上式可以扩到n阶线性微分方程\n",
    "\n",
    "### 定理\n",
    "- $y^*(x)$是$y''+P(x)y'+Q(x)y=f(x)$的特解 \n",
    "- $Y(x)$是$y''+P(x)y'+Q(x)y=0$的通解 \n",
    "\n",
    "### 结论\n",
    "- $y=Y(x)+y^*(x)$是$y''+P(x)y'+Q(x)y=f(x)$的通解\n",
    "\n",
    "\n",
    "### 定理\n",
    "- $y_1^*(x)$是$y''+P(x)y'+Q(x)y=f_1(x)$的特解 \n",
    "- $y_2^*(x)$是$y''+P(x)y'+Q(x)y=f_2(x)$的特解 \n",
    "\n",
    "### 结论\n",
    "- $y_1^*(x) + y_2^*(x)$是$y''+P(x)y'+Q(x)y=f_1(x)+f_2(x)$的特解"
   ]
  },
  {
   "cell_type": "markdown",
   "id": "e58125ab",
   "metadata": {},
   "source": [
    "### 常数变易法\n",
    "- $Y(x)=C_1y_1(x)+C_2y_2(x)$是$y''+P(x)y'+Q(x)y = 0$的通解\n",
    "- 令$y=y_1(x)v_1+y_2(x)v_2$\n",
    "- 设$y_1v_1'+y_2v_2'=0$"
   ]
  },
  {
   "cell_type": "markdown",
   "id": "5c175496",
   "metadata": {},
   "source": [
    "## 二阶常系数齐次线性微分方程\n",
    "- $y''+py'+qy=0$, p,q是常数\n",
    "\n",
    "### 求解步骤\n",
    "- 写出特征方程：$r^2+pr+q=0$\n",
    "- 特征方程的两个解:$r_1,r_2$\n",
    "- $r_1,r_2$是两个不相等的实根,通解为$y=C_1e^{r_1x}+C_2e^{r_2x}$\n",
    "- $r_1,r_2$是两个相等的实根,通解为$y=(C_1+C_2x)e^{r_1x}$\n",
    "- $r_1,r_2$是一对共轭复根$r_{1,2}=\\alpha \\pm i\\beta$,通解为$y=e^{\\alpha x}(C_1cos\\ \\beta x + C_2sin\\ \\beta x)$"
   ]
  },
  {
   "cell_type": "markdown",
   "id": "cfab7d95",
   "metadata": {},
   "source": [
    "## n阶常系数齐次线性微分方程\n",
    "- $y^{(n)}+p_1y^{(n-1)}+...+p_{n-1}y' + p_ny=0$, p是常数\n",
    "\n",
    "### 求解步骤\n",
    "- 写出特征方程：$r^n+p_1r^{n-1}+p_2r^{n-2}+...+p_{n-1}r + p_n=0$\n",
    "- 单实根$r$在通解中添加一项$Ce^{(rx)}$\n",
    "- 一对单复根$r_{1,2}=\\alpha \\pm i\\beta$,在通解中添加两项：$e^{\\alpha x}(C_1cos\\ \\beta x + C_2sin\\ \\beta x)$\n",
    "- k重实根r,在通解中添加k项:$e^{rx}(C_1+C_2x+...+C_kx^{k-1})$\n",
    "- 一对中重复根$r_{1,2}=\\alpha \\pm i\\beta$,在通解中添加2k项：$e^{\\alpha x}[(C_1+C_2x+...+C_kx^{k-1})cos\\ \\beta x + (D_1+D_2x+...+D_kx^{k-1})sin\\ \\beta x]$"
   ]
  },
  {
   "cell_type": "markdown",
   "id": "2764e55c",
   "metadata": {},
   "source": [
    "## 常系数非齐次线性微分方程\n",
    "### $f(x)=e^{\\lambda x}P_m(x)$\n",
    "### $f(x)=e^{\\lambda x}[P_l^{(1)}(x)cos\\ \\omega x + P_n^{2}(x)sin\\ \\omega x$"
   ]
  },
  {
   "cell_type": "markdown",
   "id": "67e36fe4",
   "metadata": {},
   "source": [
    "## 欧拉方程\n",
    "- $x^ny^{(n)}+p_1x^{n-1}y^{(n-1)}+...+p_{n-1}xy' + p_ny=f(x)$"
   ]
  },
  {
   "cell_type": "markdown",
   "id": "e35af1fa",
   "metadata": {},
   "source": [
    "## 常系数线性微分方程组 解法"
   ]
  }
 ],
 "metadata": {
  "kernelspec": {
   "display_name": "Python 3 (ipykernel)",
   "language": "python",
   "name": "python3"
  },
  "language_info": {
   "codemirror_mode": {
    "name": "ipython",
    "version": 3
   },
   "file_extension": ".py",
   "mimetype": "text/x-python",
   "name": "python",
   "nbconvert_exporter": "python",
   "pygments_lexer": "ipython3",
   "version": "3.8.11"
  }
 },
 "nbformat": 4,
 "nbformat_minor": 5
}
