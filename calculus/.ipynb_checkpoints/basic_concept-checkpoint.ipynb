{
 "cells": [
  {
   "cell_type": "markdown",
   "id": "ce3349aa",
   "metadata": {},
   "source": [
    "# 基本概念"
   ]
  },
  {
   "cell_type": "markdown",
   "id": "52414819",
   "metadata": {},
   "source": [
    "## 集合"
   ]
  },
  {
   "cell_type": "markdown",
   "id": "381a006b",
   "metadata": {},
   "source": [
    "## 映射"
   ]
  },
  {
   "cell_type": "markdown",
   "id": "ee2b8b32",
   "metadata": {},
   "source": [
    "## 函数"
   ]
  },
  {
   "cell_type": "markdown",
   "id": "c887b606",
   "metadata": {},
   "source": [
    "## 数列"
   ]
  },
  {
   "cell_type": "markdown",
   "id": "d5f78971",
   "metadata": {},
   "source": [
    "## 数列的极限"
   ]
  },
  {
   "cell_type": "markdown",
   "id": "da2da6c2",
   "metadata": {},
   "source": [
    "## 收敛数列"
   ]
  },
  {
   "cell_type": "markdown",
   "id": "37861ca5",
   "metadata": {},
   "source": [
    "## 函数的极限"
   ]
  },
  {
   "cell_type": "markdown",
   "id": "c4d25db5",
   "metadata": {},
   "source": [
    "## 无穷小"
   ]
  },
  {
   "cell_type": "markdown",
   "id": "bf13c8a7",
   "metadata": {},
   "source": [
    "## 无穷大"
   ]
  },
  {
   "cell_type": "markdown",
   "id": "8c7faa83",
   "metadata": {},
   "source": [
    "## 极限运算法则"
   ]
  },
  {
   "cell_type": "markdown",
   "id": "ab6e3e84",
   "metadata": {},
   "source": [
    "## 极限存在准则"
   ]
  },
  {
   "cell_type": "markdown",
   "id": "a6f704e2",
   "metadata": {},
   "source": [
    "## 重要极限"
   ]
  },
  {
   "cell_type": "markdown",
   "id": "73c9eb75",
   "metadata": {},
   "source": [
    "## 无穷小的比较"
   ]
  },
  {
   "cell_type": "markdown",
   "id": "9066e8d8",
   "metadata": {},
   "source": [
    "## 函数的连续性与间断点"
   ]
  },
  {
   "cell_type": "markdown",
   "id": "c713277b",
   "metadata": {},
   "source": [
    "## 连续函数的和差积商，反函数，复合函数的连续性"
   ]
  },
  {
   "cell_type": "markdown",
   "id": "560eb381",
   "metadata": {},
   "source": [
    "## 闭区间上连续函数的 有界性，最大值，最小值"
   ]
  },
  {
   "cell_type": "markdown",
   "id": "d7b66e47",
   "metadata": {},
   "source": [
    "## 零点定理,介值定理"
   ]
  },
  {
   "cell_type": "markdown",
   "id": "df0abae2",
   "metadata": {},
   "source": [
    "## 一致连续"
   ]
  },
  {
   "cell_type": "markdown",
   "id": "4cc6673e",
   "metadata": {},
   "source": [
    "## 导数"
   ]
  },
  {
   "cell_type": "markdown",
   "id": "41c152d2",
   "metadata": {},
   "source": [
    "## 可导与连续"
   ]
  },
  {
   "cell_type": "markdown",
   "id": "af590a9c",
   "metadata": {},
   "source": [
    "## 求导方法 函数和差积商、反函数、复合函数的求导法则"
   ]
  },
  {
   "cell_type": "markdown",
   "id": "ef59f4cd",
   "metadata": {},
   "source": [
    "## 求导公式"
   ]
  },
  {
   "cell_type": "markdown",
   "id": "dbee34ab",
   "metadata": {},
   "source": [
    "## 高阶导数"
   ]
  },
  {
   "cell_type": "markdown",
   "id": "7671a652",
   "metadata": {},
   "source": [
    "## 隐函数，参数方程的导数， 相关变化率"
   ]
  },
  {
   "cell_type": "markdown",
   "id": "1ad7b778",
   "metadata": {},
   "source": [
    "## 微分"
   ]
  },
  {
   "cell_type": "markdown",
   "id": "c72553ec",
   "metadata": {},
   "source": [
    "## 微分中值定理"
   ]
  },
  {
   "cell_type": "markdown",
   "id": "c75a6f10",
   "metadata": {},
   "source": [
    "## 洛必达法则"
   ]
  },
  {
   "cell_type": "markdown",
   "id": "b331a99e",
   "metadata": {},
   "source": [
    "## 泰勒公式"
   ]
  },
  {
   "cell_type": "markdown",
   "id": "14df0830",
   "metadata": {},
   "source": [
    "## 函数单调性"
   ]
  },
  {
   "cell_type": "markdown",
   "id": "3ec3583e",
   "metadata": {},
   "source": [
    "## 曲线凹凸性"
   ]
  },
  {
   "cell_type": "markdown",
   "id": "79eb79d4",
   "metadata": {},
   "source": [
    "## 函数极大值与极小值， 最大值，最小值"
   ]
  },
  {
   "cell_type": "markdown",
   "id": "6ac61042",
   "metadata": {},
   "source": [
    "## 曲率"
   ]
  },
  {
   "cell_type": "markdown",
   "id": "868585f8",
   "metadata": {},
   "source": [
    "## 不定积分"
   ]
  },
  {
   "cell_type": "markdown",
   "id": "7fcd4f6e",
   "metadata": {},
   "source": [
    "## 换元积分法"
   ]
  },
  {
   "cell_type": "markdown",
   "id": "11d1d338",
   "metadata": {},
   "source": [
    "## 分部积分法"
   ]
  },
  {
   "cell_type": "markdown",
   "id": "fa98b828",
   "metadata": {},
   "source": [
    "## 有理函数积分"
   ]
  },
  {
   "cell_type": "markdown",
   "id": "1638d98f",
   "metadata": {},
   "source": [
    "## 定积分"
   ]
  },
  {
   "cell_type": "markdown",
   "id": "e6fe5932",
   "metadata": {},
   "source": [
    "## 元素法"
   ]
  },
  {
   "cell_type": "markdown",
   "id": "74d68bbd",
   "metadata": {},
   "source": [
    "## 定积分求面积，体积，曲线弧长"
   ]
  },
  {
   "cell_type": "markdown",
   "id": "0da8cc44",
   "metadata": {},
   "source": [
    "## 定积分求蛮力曲线做功，水压力，引力"
   ]
  },
  {
   "cell_type": "markdown",
   "id": "a3efffe2",
   "metadata": {},
   "source": [
    "## 微分方程\n",
    "- 可分离变量\n",
    "- 齐次\n",
    "- 一阶线性微分方程\n",
    "- 可降阶\n",
    "- 高阶\n",
    "- 常系数齐次微分方程\n",
    "- 欧拉方程\n",
    "-"
   ]
  },
  {
   "cell_type": "markdown",
   "id": "0a971492",
   "metadata": {},
   "source": [
    "## 多元函数微分"
   ]
  },
  {
   "cell_type": "markdown",
   "id": "bc376798",
   "metadata": {},
   "source": [
    "## 偏导数"
   ]
  },
  {
   "cell_type": "markdown",
   "id": "16261860",
   "metadata": {},
   "source": [
    "## 全微分"
   ]
  },
  {
   "cell_type": "markdown",
   "id": "b5882463",
   "metadata": {},
   "source": [
    "## 多元复合函数求导法则"
   ]
  },
  {
   "cell_type": "markdown",
   "id": "9521d2b2",
   "metadata": {},
   "source": [
    "## 隐函数求导"
   ]
  },
  {
   "cell_type": "markdown",
   "id": "ca785a07",
   "metadata": {},
   "source": [
    "## 方向导数与梯度"
   ]
  },
  {
   "cell_type": "markdown",
   "id": "f84af366",
   "metadata": {},
   "source": [
    "## 多元函数的极限"
   ]
  },
  {
   "cell_type": "markdown",
   "id": "66866631",
   "metadata": {},
   "source": [
    "## 二元函数泰勒公式"
   ]
  },
  {
   "cell_type": "markdown",
   "id": "a7aa2d3d",
   "metadata": {},
   "source": [
    "## 重积分"
   ]
  },
  {
   "cell_type": "markdown",
   "id": "3a6d3d82",
   "metadata": {},
   "source": [
    "## 曲线积分与曲面积分"
   ]
  },
  {
   "cell_type": "markdown",
   "id": "61f9faa3",
   "metadata": {},
   "source": [
    "## 无穷极数"
   ]
  },
  {
   "cell_type": "markdown",
   "id": "9f3b1408",
   "metadata": {},
   "source": [
    "## 傅里叶，拉普拉斯，Z变换"
   ]
  }
 ],
 "metadata": {
  "kernelspec": {
   "display_name": "Python 3 (ipykernel)",
   "language": "python",
   "name": "python3"
  },
  "language_info": {
   "codemirror_mode": {
    "name": "ipython",
    "version": 3
   },
   "file_extension": ".py",
   "mimetype": "text/x-python",
   "name": "python",
   "nbconvert_exporter": "python",
   "pygments_lexer": "ipython3",
   "version": "3.8.11"
  }
 },
 "nbformat": 4,
 "nbformat_minor": 5
}
