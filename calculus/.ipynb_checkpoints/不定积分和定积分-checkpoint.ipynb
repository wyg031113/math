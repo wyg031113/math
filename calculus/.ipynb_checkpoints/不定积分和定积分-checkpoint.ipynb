{
 "cells": [
  {
   "cell_type": "markdown",
   "id": "004a6c6b",
   "metadata": {},
   "source": [
    "# 不定积分\n",
    "- 不定积分，初等函数的不定积分，和差积商反函数复合函数的不定积分\n",
    "- 不定：积分后加个常数C\n",
    "\n",
    "### 条件\n",
    "- F'(x)=f(x)或dF(x)=f(x)dx, D_f=I$\n",
    "\n",
    "### 结论\n",
    "- F(x)是f(x)的原函数。F(x)+C也是f(x)的原函数\n",
    "- 连续函数一定有原函数\n",
    "- 不定积分：$\\int f(x)dx = F(x)+C$"
   ]
  },
  {
   "cell_type": "markdown",
   "id": "d1fbb1a7",
   "metadata": {},
   "source": [
    "# 求不定积分的方法"
   ]
  },
  {
   "cell_type": "markdown",
   "id": "3dd5aabf",
   "metadata": {},
   "source": [
    "## 积分表\n",
    "- $\\int kdx = kx+C$\n",
    "- $\\int x^\\mu = \\frac{x^{\\mu+1}}{\\mu+1}+C$\n",
    "- $\\int \\frac{1}{x}dx = ln|x|+C$\n",
    "- $\\int \\frac{1}{1+x^2}dx=arctan\\ x + C$\n",
    "- $\\int \\frac{1}{\\sqrt{1-x^2}}dx=arcsin\\ x + C$\n",
    "- $\\int cos\\ xdx=sin\\ x + C$\n",
    "- $\\int sin\\ xdx=-cos\\ x + C$\n",
    "- $\\int \\frac{1}{cos^2}\\ xdx=\\int\\sec^2xdx=tan\\ x + C$\n",
    "- $\\int \\frac{1}{sin^2\\ x dx} = \\int\\csc^2\\ xdx=-cot\\ x + C$\n",
    "- $\\int sec\\ x\\ tan\\ xdx = sec\\ x + C$\n",
    "- $\\int csc\\ x\\ cot\\ xdx=-csc\\ x+C$\n",
    "- $\\int e^xdx=e^x+c$\n",
    "- $\\int a^xdx=\\frac{a^x}{lna}+C$\n",
    "- $\\int sh\\ xdx=ch\\ x+C$\n",
    "- $\\int ch\\ xdx=sh\\ x+C$\n",
    "- $\\int tan\\ xdx=-ln|cos\\ x|+C$\n",
    "- $\\int cot\\ xdx=-ln|sin\\ x|+C$\n",
    "- $\\int sec\\ xdx=-ln|sec\\ x+tan\\ x|+C$\n",
    "- $\\int csc\\ xdx=-ln|csc\\ x-tan\\ x|+C$\n",
    "- $\\int \\frac{1}{a^2+x^2}dx = \\frac{1}{a}arctan\\ \\frac{x}{a}+C$\n",
    "- $\\int \\frac{1}{x^2-a^2}dx=\\frac{1}{2a}ln|\\frac{x-a}{x+a}|+C$\n",
    "- $\\int \\frac{1}{\\sqrt{x^2-a^2}}dx=arcsin\\ \\frac{x}{a}+ C$\n",
    "- $\\int \\frac{1}{\\sqrt{x^2+a^2}}dx=ln(\\ x+\\sqrt{x^2+a^2})+ C$\n",
    "- $\\int \\frac{1}{\\sqrt{x^2-a^2}}dx=ln(\\ x+\\sqrt{x^2-a^2})+ C$"
   ]
  },
  {
   "cell_type": "markdown",
   "id": "e806380e",
   "metadata": {},
   "source": [
    "## 函数和差常数积的不定积分\n",
    "- $\\int[f(x) \\pm g(x)]dx = \\int f(x)dx \\pm \\int g(x) dx$\n",
    "- $\\int kf(x)dx=k\\int f(x)dx$"
   ]
  },
  {
   "cell_type": "markdown",
   "id": "f87798da",
   "metadata": {},
   "source": [
    "## 换元积分法\n",
    "逆用复合函数导数\n",
    "- $F'[\\varphi(x)]=f(\\varphi(x))\\varphi'(x)$\n",
    "\n",
    "### 第一类换元法：提取复合函数\n",
    "- $\\int f[\\varphi(x)]\\varphi'(x)dx$ = $\\int f(u)du$,其中$u=\\varphi(x)$\n",
    "\n",
    "### 第二类换元法：加入复合函数\n",
    "- $x=\\varphi(t), t=\\varphi^{-1}(x)存在$\n",
    "- $\\int f(x)dx = \\int f[\\varphi(t)]\\varphi'(t)dt$"
   ]
  },
  {
   "cell_type": "markdown",
   "id": "2c2d193a",
   "metadata": {},
   "source": [
    "## 分部积分法\n",
    "逆用两个函数积的导数\n",
    "- $u=u(x),v=v(x)$\n",
    "- $(uv)'=u'v+uv'$\n",
    "- $\\int uv'dx=uv-\\int u'vdx$\n",
    "- $\\int udv=uv-vdu$"
   ]
  },
  {
   "cell_type": "markdown",
   "id": "8ac3dda2",
   "metadata": {},
   "source": [
    "## 有理函数积分\n",
    "- 逆用商的导数\n",
    "- $(\\frac{u}{v})'=\\frac{u'v-uv'}{v^2}$\n",
    "- 有理函数：两个多项式的商:$\\frac{P(x)}{Q(x)} = \\frac{P_1(x)}{Q_1(x)}+\\frac{P_2(x)}{Q_2(x)}$\n",
    "- $\\frac{P(x)}{Q(x)} = \\frac{A}{Q_1(x)}+\\frac{B}{Q_2(x)}$\n",
    "- $\\frac{P(x)}{Q(x)} = \\frac{Ax+B}{Q_1(x)}+\\frac{C}{Q_2(x)}$\n",
    "- 非有理函数，如果通过换元积分变换成有理函数，就可以使用 有理函数积分法"
   ]
  },
  {
   "cell_type": "markdown",
   "id": "25acce20",
   "metadata": {},
   "source": [
    "# 定积分\n",
    "## 条件\n",
    "- I是常数,f(x)是函数，$[a,b]\\in D_f$\n",
    "- $\\forall \\epsilon \\in R^+\\ \\exists\\delta\\in R^+$\n",
    "- $\\bigcup\\limits_{i=1}^{n}[x_{i-1},x_i]=[a,b], n\\in N^+, x_0=a, x_n=b, \\forall x_i，[x_{i-1},x_i]\\bigcup [x_i,x_{i+1}]=[x_{i-1},x_{i+1}]$\n",
    "-$\\exists \\xi_i\\in[x_{i-1},x_i]|\\sum\\limits_{i=1}^{n}f(\\xi_i)\\Delta x_i - I| < \\epsilon$\n",
    "\n",
    "## 结论\n",
    "- I是f(x)在[a,b]上的定积分，记作：$\\int_a^bf(x)dx$\n",
    "- a是积分上限，b是积分下限\n",
    "\n",
    "## 定理\n",
    "- f(x)在[a,b]上连续，则f(x)在[a,b]上积分存在，也叫可积\n",
    "- f(x)在[a,b]上有界且有有限个间断点，则f(x)在[a,b]上积分存在，也叫可积\n",
    "- $a=b \\rightarrow \\int_a^bf(x)dx = 0$\n",
    "- $a>b \\rightarrow \\int_a^bf(x)dx=-\\int_b^af(x)dx$\n",
    "- $\\int_a^b[f(x)\\pm g(x)dx]=\\int_a^bf(x)dx\\pm \\int_a^bg(x)$\n",
    "- $\\int_a^bkf(x)dx = k\\int_a^bf(x)dx$\n",
    "- $a<c<b\\rightarrow\\int_a^cf(x)dx+\\int_c^bf(x)dx$\n",
    "- $\\forall x in [a,b],f(x)=1 \\rightarrow \\int_a^b1dx=\\int_a^bdx=b-a$\n",
    "- $\\forall x \\in [a,b], f(x)\\ge 0 \\rightarrow \\int_a^bf(x)dx \\ge 0$\n",
    "- $\\forall x \\in [a,b], f(x) \\le g(x) \\rightarrow \\int_a^bf(x)dx \\le \\int_a^bg(x)dx$\n",
    "- $|\\int_a^bf(x)dx|=\\int_a^b|f(x)|dx$\n",
    "- $M,M是f(x)在[a,b]上的最大值和最小值\\rightarrow m(b-a)\\le \\int_a^bf(x)dx\\le M(b-a)$\n",
    "\n",
    "### 定积分中值定理\n",
    "#### 条件\n",
    "- f(x)在[a,b]上连续\n",
    "\n",
    "#### 结论\n",
    "- $\\exists \\xi \\in [a,b],\\int_a^bf(x)dx=f(\\xi)(b-a)$\n",
    "\n",
    "## 定积分近似计算\n",
    "- $\\int_0^1x^2dx \\approx \\sum\\limits_{i=1}^{n}f(\\xi_i)\\Delta x_i = \\frac{1}{6}(1+\\frac{1}{n})(2+\\frac{1}{n})$\n",
    "- 矩形近似法\n",
    "- 梯形近似法\n",
    "- 抛物线近似法(辛普森法)"
   ]
  },
  {
   "cell_type": "markdown",
   "id": "4e6db86e",
   "metadata": {},
   "source": [
    "## 积分上限函数\n",
    "- $f(x)=\\int_a^xf(x)dx=\\int_a^xf(t)dt$\n",
    "\n",
    "### 定理\n",
    "- $f(x)在[a,b]上连续\\rightarrow\\Phi(x)=\\int_a^xf(t)dt在[a,b]上可导且\\Phi'(x)=f(x), \\Phi(x)是f(x)的原函数$\n",
    "\n",
    "#### 牛顿-莱布尼茨公式\n",
    "- $F'(x)=\\int_a^bf(x)dx \\rightarrow \\int_a^bf(x)dx=F(b)-F(a)$\n"
   ]
  },
  {
   "cell_type": "markdown",
   "id": "0eaead9f",
   "metadata": {},
   "source": [
    "## 定积分求法\n",
    "### 换元法\n",
    "- 与不定积分相同，只需要加上下限\n",
    "- 提取或加入的子函数不需要反代回去，直接计算值\n",
    "\n",
    "### 分部积分法\n",
    "- 与不定积分相同，只需要加上下限\n",
    "- 已经积出的部分可把上下限带进去"
   ]
  },
  {
   "cell_type": "markdown",
   "id": "ef694ade",
   "metadata": {},
   "source": [
    "# 反常积分\n",
    "- 定积分中如果积分上下限是无穷大，则称为反常积分\n",
    "\n",
    "## 上限正无穷大的定积分\n",
    "- F'(x)=f(x)在$[a,+\\infty]$连续， 取t>a\n",
    "- $\\int_a^{+\\infty}f(x)dx = \\lim\\limits_{t\\rightarrow +\\infty}\\int_a^tf(x)dx = [\\lim\\limits_{t\\rightarrow +\\infty}F(t)] - F(a)$\n",
    "\n",
    "## 下限负无穷大的定积分\n",
    "- F'(x)=f(x)在$[-\\infty, b]$连续， 取t<b\n",
    "- $\\int_{-\\infty}^bf(x)dx = \\lim\\limits_{t\\rightarrow -\\infty}\\int_t^bf(x)dx = F(b)-[\\lim\\limits_{t\\rightarrow -\\infty}F(t)]$\n",
    "                                    \n",
    "## 上下限都是无穷大的定积分\n",
    "- F'(x)=f(x)在$[-\\infty, +\\infty]$连续， 取$c\\in R$,一般取c=0\n",
    "- $\\int_{-\\infty}^{+\\infty}f(x)dx =\\int_{-\\infty}^{c}f(x)dx + \\int_{c}^{+\\infty}f(x)dx$ "
   ]
  },
  {
   "cell_type": "markdown",
   "id": "aa9e15e0",
   "metadata": {},
   "source": [
    "## 下限是开区间\n",
    "- F'(x)=f(x)在$(a, b]$连续， 取$a<t<b$\n",
    "- $\\lim\\limits_{t\\rightarrow a^+}\\int_t^bf(x)dx = F(b)-\\lim\\limits_{t\\rightarrow a^+}F(t)$\n",
    "\n",
    "## 上限开区间\n",
    "- F'(x)=f(x)在$[a, b)$连续， 取$a<t<b$\n",
    "- $\\lim\\limits_{t\\rightarrow b^-}\\int_a^tf(x)dx = [\\lim\\limits_{t\\rightarrow b^-}F(t)] - F(a)$\n",
    "\n",
    "\n",
    "## 上下限都是开区间\n",
    "- F'(x)=f(x)在$(a, b)$连续， 取$a<c<b$\n",
    "- $\\lim\\limits_{t\\rightarrow a^+}\\int_t^cf(x)dx + \\lim\\limits_{t\\rightarrow b^-}\\int_c^tf(x)dx$"
   ]
  },
  {
   "cell_type": "markdown",
   "id": "66fe357a",
   "metadata": {},
   "source": [
    "# 反常积分审敛\n",
    "反常积分不一定存在，因为极限可能不存在\n",
    "- 有界则收敛\n",
    "- 比较审敛法\n",
    "- 极限审敛法\n",
    "\n",
    "# $\\Gamma$函数\n",
    "- $\\Gamma(s)=\\int_0^{+\\infty}e^{-x}x^{x-1}dx \\ (s>0)$\n",
    "- $\\Gamma(s+1) = s\\Gamma(s) \\ (s>0)$\n",
    "- $s\\rightarrow 0^+ \\rightarrow \\Gamma(s)趋于正无穷大$\n",
    "- $\\Gamma(s)\\Gamma(1-s)=\\frac{\\pi}{sin\\ \\pi s} \\ (0<s<1)$\n",
    "- $\\Gamma(s)=\\int_0^{+\\infty}e^{-x}x^{s-1}dx$\n",
    "- $\\Gamma(s)=2\\int_0^{+\\infty}e^{-u^2}u^{2s-1}du,\\ 令上式x=u^2$\n",
    "- $\\Gamma(n+1)=n!$, 阶乘的推广"
   ]
  },
  {
   "cell_type": "markdown",
   "id": "5820bd3e",
   "metadata": {},
   "source": [
    "## 元素法"
   ]
  },
  {
   "cell_type": "markdown",
   "id": "d3b05e01",
   "metadata": {},
   "source": [
    "## 定积分求面积，体积，曲线弧长"
   ]
  },
  {
   "cell_type": "markdown",
   "id": "e383e3bf",
   "metadata": {},
   "source": [
    "## 定积分求蛮力曲线做功，水压力，引力"
   ]
  }
 ],
 "metadata": {
  "kernelspec": {
   "display_name": "Python 3 (ipykernel)",
   "language": "python",
   "name": "python3"
  },
  "language_info": {
   "codemirror_mode": {
    "name": "ipython",
    "version": 3
   },
   "file_extension": ".py",
   "mimetype": "text/x-python",
   "name": "python",
   "nbconvert_exporter": "python",
   "pygments_lexer": "ipython3",
   "version": "3.8.11"
  }
 },
 "nbformat": 4,
 "nbformat_minor": 5
}
