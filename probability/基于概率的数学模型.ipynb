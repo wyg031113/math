{
 "cells": [
  {
   "cell_type": "markdown",
   "id": "824ac569",
   "metadata": {},
   "source": [
    "# 样本及抽样分布\n",
    "## 随机样本\n",
    "## 直方图&箱线图\n",
    "## 抽样分布\n",
    "- 样本平均值$\\overline{X}$\n",
    "- 样本方差$S^2$\n",
    "- 样本标准差\n",
    "- 样本k阶原点矩\n",
    "\n",
    "## 经验分布函数\n",
    "\n",
    "### $\\mathcal{X}^2$分布\n",
    "### t分布\n",
    "### F分布\n",
    "\n",
    "### 正态分布的样本平均值和样本方差也服从正态分布\n",
    "$$X\\sim N(\\mu, \\sigma^2), \\overline{X}=\\frac{1}{n}\\sum\\limits_{i=1}{n}X_i \\rightarrow \\overline{X} \\sim N(\\mu, \\sigma^2/n)$$ \n",
    "\n",
    "### 正态分布与 $\\varkappa^2$、F、t分布的关系\n",
    "$$\\frac{(n-1)S^2}{\\sigma^2}\\sim \\mathcal{X}^2(n-1)$$\n",
    "\n",
    "$$\\overline{X}与S^2相互独立$$\n",
    "\n",
    "$$\\frac{\\overline{X}-\\mu}{S/\\sqrt{n}} \\sim t(n-1)$$\n",
    "\n",
    "$$\\frac{S_1^2/S_2^2}{\\sigma_1^2/\\sigma_2^2} \\sim F(n_1-1, n_2-1)$$\n",
    "\n",
    "$$\\sigma_2^2=\\sigma_2^2=\\sigma^2 \\rightarrow \\frac{(\\overline(X)-\\overline(Y)-(\\mu_1-\\mu_2)}{S_w\\sqrt{\\frac{1}{n_1}+\\frac{1}{n_2}}} \\sim t(n_1+n_2-2)$$\n",
    "\n"
   ]
  },
  {
   "cell_type": "markdown",
   "id": "2dd3d614",
   "metadata": {},
   "source": [
    "# 参数估计\n",
    "## 点估计\n",
    "基于样本估计总体分布函数的参数的问题， 分布函数已知，参数未知.\n",
    "比如样本的期望，样本的k阶中心矩可以由具体样本算出来 = 也可以由分布函数计算出来(包含了参数)。 然后求解参数\n",
    "\n",
    "## 矩估计法\n",
    "\n",
    "## 最大似然估计\n",
    "### 条件\n",
    "- X是离散随机变量\n",
    "- X的分布律$P\\{X=x\\}=p(x;\\theta), \\theta \\in \\Theta$的形式已知\n",
    "- $\\theta$为待估计参数， $\\Theta$是$\\theta$可能的取值范围\n",
    "- $X_1, X_2,..,X_n$是来自X的样本\n",
    "- $X_1, X_2,..,X_n$的联合分布律 $\\prod\\limits_{i=1}^{n}p(x_i;\\theta)$\n",
    "- $x_1,x_2,...,x_n$是$X_1,X_2,...,X_n$的一个样本\n",
    "- $X_1,X_2,..,X_n$取到观察值$x_1,x_2,...,x_n$的概率就是事件{X_i,X_2=x2,...,X_n=x_n}发生的概率为:\n",
    "$$L(\\theta)=L(x_1, x_2,...,x_n;\\theta)=\\prod\\limits_{i=1}^{n}p(x_i;\\theta), \\theta \\in \\Theta$$\n",
    "\n",
    "### 结论\n",
    "- $L(\\theta)$称为样本的似然函数，注意$x_1,x_2,...,x_n$是已知样本，是常数\n",
    "- 能让$L$取到最大值的参数$\\hat\\theta$称为$\\theta$的最大似然估计\n",
    "\n",
    "### 连续性随机变量X的最大似然估计\n",
    "既然样本x观察到了，那么自然比没观察到的样本概率大，因此$L(x,\\theta)$应该很大，所以要求出能让概率最大的$\\theta$。 机器学习中常用梯度下降法求。\n",
    "- 联合密度 $L(\\theta)=\\prod\\limits_{i=1}^{n}f(x_i,\\theta)$\n",
    "\n",
    "## 评价估计出来的参数\n",
    "### 无偏性\n",
    "### 有效性\n",
    "### 相合性\n",
    "\n",
    "## 区间估计\n",
    "### 置信区间\n",
    "#### 条件\n",
    "- $0<\\alpha<1$\n",
    "- $P\\{\\underline\\theta(X_1,X_2,...,X_n)<\\theta<\\overline\\theta(X_1,X_2,...,X_n)\\}\\ge1-\\alpha$\n",
    "\n",
    "#### 结论\n",
    "- 区间$(\\underline\\theta,\\overline\\theta)$是$\\theta$的置信水平为$1-\\alpha$的置信区间\n",
    "\n",
    "### 正态总体均值与方差的区间估计\n",
    "\n",
    "### (0-1)分布参数的区间估计\n"
   ]
  },
  {
   "cell_type": "markdown",
   "id": "60111cec",
   "metadata": {},
   "source": [
    "# 假设检验\n",
    "- 总体分布函数未知或只知其形式不知其参数，所以提出假设，如服从泊松分布，正态分布。\n",
    "- 假如是正太分布，对X进行一次抽样x,x处于$3\\sigma$之外的可能性极低，如果出现了，那么说明假设不正确(可能不是正态分布，也可能参数$\\mu,\\sigma$假设的不对\n",
    "\n",
    "## 正态总体均值的假设检验\n",
    "\n",
    "###  单个总体$N(\\mu,\\sigma^2)$的均值$\\mu$的检验\n",
    "- Z检验：$Z=\\frac{\\overline{X}-\\mu_0}{\\sigma/\\sqrt{n}}$\n",
    "- t检验：如果$\\sigma$也未知，用S代替\n",
    "\n",
    "### 两个正态总体均值差的检验\n",
    "### 基于成对数据的检验\n",
    "\n",
    "## 正态总体方差的假设检验\n",
    "- 单个\n",
    "- 两个\n",
    "\n",
    "## 分布拟合检验\n",
    "\n",
    "## 秩各检验\n",
    "## p值检验法"
   ]
  },
  {
   "cell_type": "markdown",
   "id": "7fdc9118",
   "metadata": {},
   "source": [
    "# 方差分析及回归分析\n",
    "# bootstrap方法"
   ]
  }
 ],
 "metadata": {
  "kernelspec": {
   "display_name": "Python 3 (ipykernel)",
   "language": "python",
   "name": "python3"
  },
  "language_info": {
   "codemirror_mode": {
    "name": "ipython",
    "version": 3
   },
   "file_extension": ".py",
   "mimetype": "text/x-python",
   "name": "python",
   "nbconvert_exporter": "python",
   "pygments_lexer": "ipython3",
   "version": "3.8.11"
  }
 },
 "nbformat": 4,
 "nbformat_minor": 5
}
