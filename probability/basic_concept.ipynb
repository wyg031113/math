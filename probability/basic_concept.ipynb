{
 "cells": [
  {
   "cell_type": "markdown",
   "id": "6c814d0b",
   "metadata": {},
   "source": [
    "# 基本概念\n"
   ]
  },
  {
   "cell_type": "markdown",
   "id": "1c9f6c19",
   "metadata": {},
   "source": [
    "## 随机试验\n",
    "- 可在相同条件下重复进行\n",
    "- 每次试验结果不上一个，并且能事先明确试验的所有可能结果\n",
    "- 进行一次试验前不能确定哪一个结果会出现\n",
    "\n",
    "满足上述条件的试验叫随机试验E.\n",
    "\n",
    "### 父概念\n",
    "- 试验\n",
    "- 试验结果\n",
    "\n",
    "### 约束\n",
    "- 相同条件\n",
    "- 可重复进行\n",
    "- 结果不能事先确定"
   ]
  },
  {
   "cell_type": "markdown",
   "id": "32bb3104",
   "metadata": {},
   "source": [
    "## 样本空间\n",
    "\n",
    "- 某种随机试验的所有可能结果组成的集合S。\n",
    "\n",
    "### 父概念\n",
    "- 随机试验\n",
    "- 集合\n",
    "\n",
    "### 约束\n",
    "- 所有结果"
   ]
  },
  {
   "cell_type": "markdown",
   "id": "5e24695e",
   "metadata": {},
   "source": [
    "## 样本点\n",
    "- 样本空间S中的一个元素$S_k$\n",
    "\n",
    "### 父概念\n",
    "- 样本空间\n",
    "- 集合\n",
    "- 元素"
   ]
  },
  {
   "cell_type": "markdown",
   "id": "baf051d1",
   "metadata": {},
   "source": [
    "## 随机事件\n",
    "A是一个随机事件定义：\n",
    "$A=\\{x \\in S|G(x)\\}$\n",
    "\n",
    "等价于：\n",
    "- A是S的子集:$A \\subset S$\n",
    "- 对任意的A中元素x，命题P(x)为真: $\\forall x , x \\in A \\rightarrow G(x)$ 由于P在这里表示概率，因此用G表示命题。\n",
    "\n",
    "#### 基本事件\n",
    "- A中只有一个元素|A|=1\n",
    "\n",
    "#### 必然事件\n",
    "- 集合S\n",
    "\n",
    "#### 不可能事件\n",
    "-- 空集 $\\emptyset$\n",
    "\n",
    "\n",
    "### 父概念\n",
    "- 集合\n",
    "- 子集\n",
    "- 命题\n",
    "- 真，假\n",
    "- 集合元素\n",
    "\n",
    "### 约束\n",
    "- x是S的元素\n",
    "- x使得命题G(x)为真\n"
   ]
  },
  {
   "cell_type": "markdown",
   "id": "1a6a33b9",
   "metadata": {},
   "source": [
    "## 频率\n",
    "\n",
    "- 相同条件下进行n次试验\n",
    "- 事件A发生的次数$n_A$次为A发生的频数\n",
    "- $n_A/n$ 为A事件发生的频率"
   ]
  },
  {
   "cell_type": "markdown",
   "id": "95dd8dc7",
   "metadata": {},
   "source": [
    "## 概率\n",
    "- E是随机试验\n",
    "- S是E的样本空间\n",
    "- T是E的所有事件的集合\n",
    "- 对E的每一事件A对应唯一一个实数，记为P(A), 称为事件A的概率。 $\\forall A \\in T \\rightarrow \\exists !P(A) \\in \\mathbb{R}$\n",
    "    - A是个集合，P(A)是把一个集合映射成了一个实数。 这里并没给出映射方式。\n",
    "- 非负性：$P(A)>=0$\n",
    "- 规范性 $P(S) = 1$\n",
    "- 可列可加性：$\\forall(A_i, Aj), (A_i A_j = \\emptyset \\wedge i \\ne j \\wedge i,j \\in \\mathbb{Z^+} \\rightarrow P(A_1 \\vee A_2 \\vee ...) = P(A_1)+P(A_2)+...$\n",
    "\n",
    "想知道随机实验E中的某个随机事件A的概率，一种方式是重复实验E n次，统计A发生的频数$n_k$, 则$P(A)=n_k/n$.  然而并不是所有试验都可进行无限重复。所以这种古典概率的方式很有局限性。因此后续又有贝叶斯学派。"
   ]
  },
  {
   "cell_type": "markdown",
   "id": "808743a3",
   "metadata": {},
   "source": [
    "## 等可能概型\n",
    "### 关键点\n",
    "\n",
    "但是有一类最常见的概率模型：\n",
    "- 样本空间S中元素个数有限 $S={e_1, e_2, e_3, ... e_n}$\n",
    "- 样本空间S中每个单样本事件的概率是相同的。 $P(e_1)=P(e_2)=P(e_3)=P(e_4)=...=P(e_n)$\n",
    "\n",
    "#### 定理&推论\n",
    "- $P(e_i) = \\frac{1}{n}$\n",
    "- $A=\\{e_1, e_2, e_3, ... e_k\\} \\rightarrow \\frac{k}{n}$\n",
    "\n"
   ]
  },
  {
   "cell_type": "markdown",
   "id": "0b1ac115",
   "metadata": {},
   "source": [
    "## 条件概率\n",
    "- 事件A发生的情况下事件B发生的概率：$P(B|A)$\n",
    "- AB同时发生的概率：$P(AB)$\n",
    "- $$P(B|A)=\\frac{P(AB)}{P(A)}$$\n",
    "- 1.非负性 $\\forall B \\rightarrow P(B|A) \\ge 0$\n",
    "- 2.规范性 $P(S|A)=1$\n",
    "- 3.可列可加性  $\\forall B_i,B_j (B_i \\cap B_j = \\emptyset) \\rightarrow P(\\bigcup\\limits_{i=1}^{\\infty}B_i|A) = \\sum\\limits_{i=1}^{\\infty}P(B_i|A) $ \n",
    "### 定理\n",
    "- $P(B_1 \\bigcup B_2) = P(B_1|A) + P(B_2|A) - P(B_1B_2|A)$\n",
    "- $P(AB)=P(B|A)P(A)$\n",
    "- $P(ABC)=P(C|AB)P(AB)=P(C|AB)P(B|A)P(A)$"
   ]
  },
  {
   "cell_type": "markdown",
   "id": "f53f905c",
   "metadata": {},
   "source": [
    "## 样本空间的划分\n",
    "- $\\forall B_i, B_j \\in S$\n",
    "- $B_i B_j = \\emptyset, i \\ne j, i,j = 1,2,...,n$\n",
    "- $\\bigcap\\limits_{i=1}^{n} = B_1 \\bigcap B_2 \\bigcap ... \\bigcap B_n = S$\n",
    "- 称集合$B=\\{B_1, B_2, ..., B_n\\}$是S的划分\n",
    "\n",
    "### 定理\n",
    "#### 条件\n",
    "- 试验E的样本空间为S\n",
    "- A是E的事件\n",
    "- $B_1, B_2, ...,B_n$是S的一个划分\n",
    "- $\\forall B_i,i=(1,2,...,n) P(B_i)> 0 $\n",
    "#### 结论\n",
    "- $P(A) = P(A|B_1)P(B_1 + P(A|B_2)P(B_2) + .. + P(A|B_n)P(B_n) = \\bigcup\\limits_{i=1}^{n}P(A|B_i)$\n",
    "- $P(A|B_1)P(B_1 + P(A|B_2)P(B_2) + .. + P(A|B_n)P(B_n) = P(AB_1)+P(AB_2)+...+P(AB_n)$\n",
    "\n",
    "## 贝叶斯公式\n",
    "### 条件\n",
    "- $P(A)>0$\n",
    "- $\\forall b \\in B P(b)>0$\n",
    "### 结论\n",
    "$$P(B_i|A) = \\frac{P(B_iA)}{P(A)} = \\frac{P(A|B_i)P(B_i)}{\\sum\\limits_{j=1}^{n}P(A|B_j)P(B_j)},i=1,2,...,n$$"
   ]
  },
  {
   "cell_type": "markdown",
   "id": "3ad34096",
   "metadata": {},
   "source": [
    "## 随机变量\n",
    "### 条件\n",
    "- 样本空间S\n",
    "- $e_i \\in S$\n",
    "- $x = X(e_i), x \\in \\mathbb{R}$， X是个映射，且是个单射， $e_i$是单个样本， x是实数。\n",
    "\n",
    "### 结论\n",
    "- 称X为随机变量。\n",
    "- 有的样本空间里不是数字，那么需要按方便使用的规则X进行映射，而有的样本空间里本身就是数字，也可让$X(e_i) = e_i$\n",
    "- 有随机变量后，事件可表示为如：$A = \\{X<3\\}$,则$P(A)=P(\\{X<3\\})$"
   ]
  },
  {
   "cell_type": "markdown",
   "id": "6a7985c0",
   "metadata": {},
   "source": [
    "## 离散型随机变量\n",
    "### 条件\n",
    "- 随机变量X\n",
    "- 取值是有限个或者可列的无限个。 $\\forall X_i, X_j, X_i \\ne X_j \\wedge X_i \\lt X_j \\rightarrow \\exists x\\in \\mathbb{R}(X_i < x < X_j)$\n",
    "\n",
    "### 结论\n",
    "- X是离散型随机变量\n",
    "\n",
    "### P(X)是离散随机变量的概率\n",
    "#### 条件\n",
    "- $P(\\{X=x_k\\})=p_k, k=1,2,3...$\n",
    "- $p_k \\ge 0$\n",
    "- $\\sum\\limits_{k=1}^{\\infty}p_k = 1$\n",
    "\n",
    "#### 结论\n",
    "- 事件$\\{X=x_1\\},\\{X=x_2\\}, ...$ 是S的一个划分\n",
    "- $P(\\bigcup\\limits_{k=1}^{\\infty}{X=x_k} = \\sum\\limits_{k=1}^{\\infty}P\\{X=x_k\\} = \\sum\\limits_{k=1}^{\\infty}p_k=1$\n",
    "- 称$P(\\{X=x_k\\})=p_k, k=1,2,3...$为X的分布律\n",
    "\n",
    "### （0-1）分布\n",
    "#### 条件\n",
    "- X是离散随机变量\n",
    "- $X \\in {0,1}$\n",
    "- 令$P(\\{X=0\\})=p_0$表示概率\n",
    "\n",
    "#### 结论\n",
    "- $P(\\{X=1\\})=(1-p_0) = p_1$\n",
    "\n",
    "### 伯努利试验E与二项分布\n",
    "#### 条件\n",
    "- 试验E只有两种结果,记$Y\\in\\{0，1\\}, P(\\{Y=0\\})=p_0 \\rightarrow P(\\{Y=1\\})=1-p_0 $\n",
    "- 进行n次试验\n",
    "- 每次试验相互独立，即每次试验P(A)=p保持不变\n",
    "- {X=k}表示事件A：0出现k次\n",
    "- $P(\\{X=k\\})$表示A的概率\n",
    "\n",
    "#### 结论\n",
    "- 此为n重伯努利试验\n",
    "- $P(\\{X=k\\})=C_n^k p_0^k (1-p_0)^{(n-k)}$\n",
    "- $\\sum\\limits_{k=0}^{n}P(\\{X=k\\}) = \\sum\\limits_{k=0}^{n}C_n^kp^kq^{n-k} = (p+q)^n=1$\n",
    "-  X服从二项分布:$X\\sim b(n,p)$\n",
    "\n",
    "### 泊松分布\n",
    "#### 条件\n",
    "- 随机变量X\n",
    "- $X \\in \\{0,1,2,....\\}$\n",
    "- $P(\\{X=k\\}) = \\frac{\\lambda^ke^{-\\lambda}}{k!}, k \\in \\mathbb{N}$\n",
    "#### 结论\n",
    "- $\\sum\\limits_{k=0}^{\\infty}P(\\{X=k\\}) = \\sum\\limits_{k=0}^{\\infty}\\frac{\\lambda^ke^{-\\lambda}}{k!} = e^{-\\lambda}\\sum\\limits_{k=0}^{\\infty}\\frac{\\lambda^k}{k!} = e^{-\\lambda}e^{\\lambda}=1$\n",
    "- X服务参数为$\\lambda$的泊松分布"
   ]
  },
  {
   "cell_type": "markdown",
   "id": "bcd7e3c1",
   "metadata": {},
   "source": [
    "## 连续型随机变量\n",
    "### 条件\n",
    "- X是随机变量\n",
    "- $X\\in\\mathbb{R}$\n",
    "- $P(\\{X=x\\})， x\\in\\mathbb{R}$表示事件{X=x}的概率， 既然是概率就符合概率定义里的三个条件\n",
    "- $P(\\{x_1 < X \\le x_2\\}),x_1,x_2\\in\\mathbb{R}$\n",
    "- X的分布函数: $F(x) = P(\\{X\\le x\\}), -\\infty < x < \\infty$\n",
    "\n",
    "### 结论\n",
    "- F(x)的值在x增大过程中不会减小\n",
    "- $0\\le F(x)\\le 1$\n",
    "- $F(-\\infty) = \\lim\\limits_{x\\rightarrow -\\infty} F(x) = 0$\n",
    "- $F(\\infty) = \\lim\\limits_{x\\rightarrow \\infty} F(x) = 1$"
   ]
  },
  {
   "cell_type": "markdown",
   "id": "170f5073",
   "metadata": {},
   "source": [
    "## 连续型随机变量概率密度\n",
    "### 条件\n",
    "- X是连续型随机变量\n",
    "- F(x)是X的分布函数\n",
    "- $\\exists f(x) \\rightarrow F(x)=\\int_{-\\infty}^{x}f(t)dt $\n",
    "\n",
    "### 结论\n",
    "- f(x)是概率密度函数\n",
    "- $f(x)\\ge 0$\n",
    "- $\\int_{-\\infty}^{\\infty}f(x)dx=1$\n",
    "- $\\forall x_1, x_2,(x_1 \\lt x_2) \\rightarrow P(\\{x_1 < X < x_2\\}) = F(x_2)-F(x_1)=\\int_{x_1}^{x_2}f(x)dx$\n",
    "- $f(x)在x处连续 \\rightarrow F'(x) = f(x)$"
   ]
  },
  {
   "cell_type": "markdown",
   "id": "125a6a60",
   "metadata": {},
   "source": [
    "## 均匀分布\n",
    "### 条件\n",
    "- X是连续型随机变量\n",
    "- X的概率密度函数\n",
    "$$f(x)=\\begin{cases}\n",
    "\\frac{1}{b-a}, & a<x<b, \\\\\n",
    "0, & 其他,\n",
    "\\end{cases}$$\n",
    "\n",
    "### 结论\n",
    "- X是均匀分布\n",
    "- F(x)\n",
    "$$F(x)=\\begin{cases}\n",
    "0, & x<a, \\\\\n",
    "\\frac{x-a}{b-a}, & a<x<b, \\\\\n",
    "1, & x \\ge b,\n",
    "\\end{cases}$$"
   ]
  },
  {
   "cell_type": "markdown",
   "id": "b1809198",
   "metadata": {},
   "source": [
    "## 指数分布\n",
    "- X是连续型随机变量\n",
    "- X的概率密度函数\n",
    "$$f(x)=\\begin{cases}\n",
    "\\frac{1}{\\theta}e^{-x/\\theta}, & a<x<b, \\\\\n",
    "0, & 其他,\n",
    "\\end{cases}$$\n",
    "\n",
    "### 结论\n",
    "- X服从参数为$\\theta$指数分布\n",
    "- F(x)\n",
    "$$F(x)=\\begin{cases}\n",
    "1-e^{-x/\\theta}, & x> 0, \\\\\n",
    "0, & 其他,\n",
    "\\end{cases}$$"
   ]
  },
  {
   "cell_type": "markdown",
   "id": "981e76c7",
   "metadata": {},
   "source": [
    "## 正态分布\n",
    "### 条件\n",
    "- X是连续型随机变量\n",
    "- f(x)为：\n",
    "$$\n",
    "f(x)=\\frac{1}{\\sqrt{2\\pi}\\sigma}e^{-\\frac{(x-\\mu)^2}{2\\sigma^2}},  -\\infty < x < \\infty\n",
    "$$\n",
    "### 结论\n",
    "- X服从参数为$\\mu,\\sigma$的正太分布或者高斯分布 $X\\sim N(\\mu,\\sigma^2)$"
   ]
  }
 ],
 "metadata": {
  "kernelspec": {
   "display_name": "Python 3 (ipykernel)",
   "language": "python",
   "name": "python3"
  },
  "language_info": {
   "codemirror_mode": {
    "name": "ipython",
    "version": 3
   },
   "file_extension": ".py",
   "mimetype": "text/x-python",
   "name": "python",
   "nbconvert_exporter": "python",
   "pygments_lexer": "ipython3",
   "version": "3.8.11"
  }
 },
 "nbformat": 4,
 "nbformat_minor": 5
}
