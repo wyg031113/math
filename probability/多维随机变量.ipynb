{
 "cells": [
  {
   "cell_type": "markdown",
   "id": "be0766b3",
   "metadata": {},
   "source": [
    "# 多维随机变量及其分布\n",
    "## 二维随机变量\n",
    "### 条件\n",
    "- E是随机试验\n",
    "- S={e}是E的样本空间\n",
    "- X=X(e)，Y=Y(e)是两个定义在S上的随机变量\n",
    "\n",
    "### 结论\n",
    "- (X,Y)叫做二维随机变量或者二维随机向量\n",
    "\n",
    "## 二维随机变量的分布函数\n",
    "### 条件\n",
    "- (X,Y)是二维随机变量\n",
    "- x,y是任意实数\n",
    "- $F(x,y) = P\\{(X \\lt x) \\cap (Y \\lt y)\\} = P\\{X \\lt x,Y \\lt y\\}$\n",
    "- $\\exists f(x,y) \\rightarrow F(x,y) = \\int_{-\\infty}^{y}\\int_{-\\infty}^{x}f(u,v)dudv$\n",
    "\n",
    "### 结论\n",
    "- F(x,y)是(X,Y)的分布函数\n",
    "- f(x,y)是(X,Y)的概率密度\n",
    "\n",
    "## 离散型随机变量\n",
    "### 条件\n",
    "- $(X,Y) \\in \\{(x_i, y_i)\\}, i,j=1,2,3...$\n",
    "- $P\\{X=x_i, Y=y_j\\} = p_{ij}$\n",
    "- $P_{ij} \\ge 0, \\sum\\limits_{i=1}^{\\infty}\\sum\\limits_{j=1}^{\\infty}p_{ij}=1$\n",
    "\n",
    "### 结论\n",
    "-$P\\{X=x_i, Y=y_j\\}=p_{ij}$是二维随机变量的分布律"
   ]
  },
  {
   "cell_type": "markdown",
   "id": "96abea42",
   "metadata": {},
   "source": [
    "## 边缘分布\n",
    "## 条件分布\n",
    "## 相互独立的随机变量"
   ]
  },
  {
   "cell_type": "markdown",
   "id": "feb4e28b",
   "metadata": {},
   "source": [
    "## 两个随机变量的函数分布\n",
    "### Z=X+Y的分布 卷积\n",
    "### Z=Y/X, Z=XY的分布\n",
    "### M=max{X,Y}， N=min{X,Y}的分布"
   ]
  }
 ],
 "metadata": {
  "kernelspec": {
   "display_name": "Python 3 (ipykernel)",
   "language": "python",
   "name": "python3"
  },
  "language_info": {
   "codemirror_mode": {
    "name": "ipython",
    "version": 3
   },
   "file_extension": ".py",
   "mimetype": "text/x-python",
   "name": "python",
   "nbconvert_exporter": "python",
   "pygments_lexer": "ipython3",
   "version": "3.8.11"
  }
 },
 "nbformat": 4,
 "nbformat_minor": 5
}
