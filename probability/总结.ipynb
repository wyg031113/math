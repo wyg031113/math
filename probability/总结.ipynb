{
 "cells": [
  {
   "cell_type": "markdown",
   "id": "848ff7bb",
   "metadata": {},
   "source": [
    "# 分布律就是概率， 概率密度不是概率\n",
    "## 离散形随机变量X\n",
    "- $P\\{X=x_k\\}=p_k, (k=1,2,3,...)$ 意思是事件X=x_k的概率\n",
    "- 离散型没有概率密度， 事件X可以是$\\{x_1,x_2,x_3\\}$, 对应$P(X)=p_1+p_2+p_3$\n",
    "\n",
    "## 连续型随机变量X\n",
    "- 分布率是F(X),表示$P\\{X<=x\\} = F(x)$\n",
    "- $P\\{X=x\\}=0$， 概率密度函数f(x)并不是说 $P\\{X=x\\}=f(x)$, f(x)只能说明概率增长的快。 它是$f(x)=F'(x)$\n",
    "\n",
    "\n",
    "## 复合随机变量的概率\n",
    "- X是随机变量， 它的分布律为F(x),概率密度为f(x)\n",
    "- Y(y)=g(X) 的 分布律就是H(y), 概率密度为h(y). 因为y与x一一对应，当然X发生的概率就意味着Y的发生。也就是$h(y) = f(g^{-1}(y)); H(Y) = F(g^{-1}(y))$.\n",
    "- $S=\\{e_1,e_2,e_3\\}$是样本空间, $x=X(e_1)$, 而$g(X) = g(X(e_1))=g(x)$\n",
    "- 复合后会变的是方差和期望，$E(X) = \\int_{-\\infty}^{\\infty}xf(x)$, 复合后$Y=g(X), y=g(x), E(Y) = \\int_{-\\infty}^{\\infty}yh(y)dy= \\int_{-\\infty}^{\\infty}g(x)f(x)dx$\n",
    "- 如$Y=g(X); y = x+1$, 的分布律和概率密度$H(y)=F(y-1),f(y-1)$. 转换后可以直接用y的分布律函数。 当然也能不转换，把y的计算对应到x上"
   ]
  },
  {
   "cell_type": "markdown",
   "id": "b895ab39",
   "metadata": {},
   "source": [
    "## 随机变量X服从$L(\\theta)$的含义\n",
    "- 记作 $X\\sim L(\\theta)$, $\\theta$是概率密度$f(x)$的参数， $\\theta$的取值范围记作$\\Theta$\n",
    "- 正态分布：$X\\sim N(\\mu,\\sigma^2)$, \n",
    "    - $\\theta=(\\mu, \\sigma)$"
   ]
  },
  {
   "cell_type": "markdown",
   "id": "e69bdc08",
   "metadata": {},
   "source": [
    "# 概率问题思考方式\n",
    "\n",
    "- 样本空间S是什么\n",
    "- S中的元素是相互独立事件吗？不是就要考虑用条件概率或者多维随机变量联合分布了\n",
    "- 随机变量X是什么\n",
    "- X(e)=x是怎么映射\n",
    "- X是离散型还是连续型\n",
    "- X服从什么分布，是否要假设一个分布\n",
    "- X的分布律$P\\{X=x_k\\}或F(x)$是什么， 概率密度函数是f(x)是什么\n",
    "- 对X的复合g(X)要注意，其F(x),f(x)是不变的。\n",
    "- P(X),不管X的形式如何，X是个随机变量，也就是对应一个实数。\n",
    "- P{X},不管X形式如何，{X}是个事件，大括号中必然要指出对X的限制。 {X} 是S的一个子集。"
   ]
  },
  {
   "cell_type": "markdown",
   "id": "0864be32",
   "metadata": {},
   "source": [
    "# 概率，分布律，概率密度，期望，方差的定义是怎么来的？\n",
    "- 对真实世界的建模\n",
    "  从这些定义来看，都是一些函数，积分加上一些限制。 如概率的规范性，可列可加性。都是人为规定的。为什么这么规定？从生活生产应用中总结而来。为解决实际问题，人们对生产中问题，如抛硬币问题用高数进行建模，从而得到这些概念\n",
    "- 数学期望真的有用吗？\n",
    "  数学期望也是一种模型，但是有时候我们发现并不管用，比如统计平均工资， 统计结果来看，大多数人要拉后腿。 因为我们期望的平均代表的是大多数的工资， 而实际上可能不是。 这时需要换其他数学模型了"
   ]
  }
 ],
 "metadata": {
  "kernelspec": {
   "display_name": "Python 3 (ipykernel)",
   "language": "python",
   "name": "python3"
  },
  "language_info": {
   "codemirror_mode": {
    "name": "ipython",
    "version": 3
   },
   "file_extension": ".py",
   "mimetype": "text/x-python",
   "name": "python",
   "nbconvert_exporter": "python",
   "pygments_lexer": "ipython3",
   "version": "3.8.11"
  }
 },
 "nbformat": 4,
 "nbformat_minor": 5
}
