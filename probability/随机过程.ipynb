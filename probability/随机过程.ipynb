{
 "cells": [
  {
   "cell_type": "markdown",
   "id": "2687e4bd",
   "metadata": {},
   "source": [
    "# 随机过程\n",
    "概率论的动力学部分。研究随时间变化的随机现象。\n",
    "## 随机过程的定义\n",
    "### 条件\n",
    "- T是一无限实数集$t\\in T$\n",
    "- 集合$\\{X(t), t \\in T\\}$ T(t)是随机变量\n",
    "\n",
    "### 结论\n",
    "- 把这一族随时时间变化的无数个随机变量称为随机过程。\n",
    "- 分布函数，期望，方差等等都要加上时间维度了\n",
    "\n",
    "\n",
    "## 随机过程的分布函数族\n",
    "\n",
    "## 随机过程的数字特征 期望，方差\n",
    "\n",
    "## 马尔可夫链\n",
    "- 在$t_0$时刻状态已知，在$t>t_0$的状态，概率分布与$t<t_0$时刻的概率分布无关。这叫马尔可夫性或无后效性。\n",
    "- 已知当前状态，未来状态与过去状态无关。\n",
    "- 时间和状态都是离散的称为马尔可夫链\n",
    "- $F_{t_n|t_1...t_{n-1}}\\ (x_n,t_n|x_1,x_2,...,X_{n-1};t_1,t_2,...,t_{n-1}) = F_{t_n|t_{n-1}}(x_n,t_n|x_{n-1},t_{n-1})$\n",
    "\n",
    "## 平均随机过程"
   ]
  }
 ],
 "metadata": {
  "kernelspec": {
   "display_name": "Python 3 (ipykernel)",
   "language": "python",
   "name": "python3"
  },
  "language_info": {
   "codemirror_mode": {
    "name": "ipython",
    "version": 3
   },
   "file_extension": ".py",
   "mimetype": "text/x-python",
   "name": "python",
   "nbconvert_exporter": "python",
   "pygments_lexer": "ipython3",
   "version": "3.8.11"
  }
 },
 "nbformat": 4,
 "nbformat_minor": 5
}
