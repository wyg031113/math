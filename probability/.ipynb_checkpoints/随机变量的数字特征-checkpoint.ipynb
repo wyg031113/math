{
 "cells": [
  {
   "cell_type": "markdown",
   "id": "f85ed9c7",
   "metadata": {},
   "source": [
    "## 随机变量的数字特征"
   ]
  },
  {
   "cell_type": "markdown",
   "id": "46827e1e",
   "metadata": {},
   "source": [
    "## 数学期望\n",
    "### 离散随机变量的数学期望\n",
    "#### 条件\n",
    "- X是离散随机变量\n",
    "- X的分布律：$P\\{X=x_k\\} = p_k, k=1,2,3...$\n",
    "- 级数 $\\sum\\limits_{k=1}^{\\infty}x_kp_k$绝对收敛\n",
    "\n",
    "#### 结论\n",
    "- X的数学期望E(X)是：$E(X)=\\sum\\limits_{k=1}^{\\infty}x_kp_k = \\sum\\limits_{k=1}^{\\infty}x_kP\\{X=x_k\\}$\n",
    "\n",
    "### 连续随机变量的数学期望\n",
    "#### 条件\n",
    "- X是连续随机变量\n",
    "- X的概率密度 f(x)\n",
    "- 积分 $\\int_{-\\infty}^{\\infty}xf(x)$ 绝对收敛\n",
    "\n",
    "#### 结论\n",
    "- X的数学期望E(X)是:$E(X)=\\int_{-\\infty}^{\\infty}xf(x)$"
   ]
  },
  {
   "cell_type": "markdown",
   "id": "0b1dce8a",
   "metadata": {},
   "source": [
    "## 定理\n",
    "- $Y=g(X), f是连续函数, X的数学期望存在 \\rightarrow E(Y)=E[g(X)] = \\sum\\limits_{k=1}^{\\infty}g(x_k)p_k, \\ E(Y)=E[g(X)] = \\int_{-\\infty}^{\\infty}g(x)f(x)dx$\n",
    "- $C是常数 \\rightarrow E(C)=C$\n",
    "- $X是随机变量，C是常数 \\rightarrow E(CX)=CE(X)$\n",
    "- $X,Y是随机变量 \\rightarrow  E(X+Y) = E(X)+E(Y)$\n",
    "- $X,Y是随机变量， XY相互独立 \\rightarrow E(XY)=E(X)E(Y)$"
   ]
  },
  {
   "cell_type": "markdown",
   "id": "04b5aaf2",
   "metadata": {},
   "source": [
    "## 方差\n",
    "### 条件\n",
    "- $X$是随机变量\n",
    "- $\\exists E(X)$\n",
    "- $\\exists E\\{[X-E(X)]^2\\}$\n",
    "- $Y=[X-E(X)]^2$\n",
    "\n",
    "### 结论\n",
    "- $D(X)是方差 \\leftrightarrow D(X)= E(Y) = E\\{[X-E(X)]^2\\}$\n",
    "- $\\sigma(X)是标准差 \\leftrightarrow \\sigma(X)=\\sqrt{D(X)}$\n",
    "- $X是离散随机变量 \\leftrightarrow D(X)=\\sum\\limits_{k=1}^{\\infty}[x_k-E(X)]^2p_k$\n",
    "- $X是连续随机变量 \\leftrightarrow D(X)=\\int_{-\\infty}^{\\infty}[x-E(X)]^2f(x)dx$\n",
    "- $D(X)=E(X^2)-[E(X)]^2$\n",
    "\n",
    "### 定理\n",
    "- $C$是常数 $\\rightarrow D(C) = 0$\n",
    "- $X$是随机变量，$C$是常数 $\\rightarrow D(CX)=C^2D(X), \\ D(X+C)=D(X)$\n",
    "- $X,Y$是随机变量 $\\rightarrow D(X+Y)=D(X)+D(Y)+2E\\{[X-E(X)][Y-E(Y)]\\}$\n",
    "- $D(X)=0 \\leftrightarrow P\\{X=E(X)\\}=1$\n",
    "- 切比雪夫不等式:$X$是随机变量，$E(X)=\\mu, D(X)=\\sigma^2 \\rightarrow \\forall \\epsilon, P\\{|X-\\mu|>=\\epsilon\\} <= \\frac{\\sigma^2}{\\epsilon^2}$"
   ]
  },
  {
   "cell_type": "markdown",
   "id": "3509b834",
   "metadata": {},
   "source": [
    "## 协方差\n",
    "### 条件\n",
    "- X，Y是随机变量\n",
    "- E[X]E[Y]存在\n",
    "\n",
    "### 结论\n",
    "- 协方差$Cov(X,Y)=E\\{[X-E(X)][Y-E(Y)]\\}$\n",
    "- X,Y相关系数：$\\rho_{XY}=\\frac{Cov(X,Y)}{\\sqrt{D(X)}\\sqrt{D(Y)}}$\n",
    "\n",
    "### 定理\n",
    "- $|\\rho_XY|\\le 1$\n",
    "- $|\\rho_XY| = 1 \\leftrightarrow \\exists a,b$是常数， $P\\{Y=a+bX\\} = 1$"
   ]
  },
  {
   "cell_type": "markdown",
   "id": "1e2e8308",
   "metadata": {},
   "source": [
    "## k阶原点矩\n",
    "$E(X^k)$\n",
    "\n",
    "## k阶中心矩\n",
    "$E\\{[X-E(X)]^k\\}$\n",
    "## k+l阶混合矩\n",
    "$E(X^kY^l)$\n",
    "## 协方差矩阵\n",
    "- $c_{11}=E\\{[X_1-E(X_1)]^2\\}$\n",
    "- $c_{12}=E\\{[X_1-E(X_1)][X_2-E(X_2)]\\}$\n",
    "- $c_{21}=E\\{[X_2-E(X_2)][X_1-E(X_1)]\\}$\n",
    "- $c_{22}=E\\{[X_2-E(X_2)]^2\\}$\n",
    "\n",
    "$$\\left(\n",
    "\\begin{array}{1}\n",
    "  c_{11} & c_{12} \\\\\n",
    "  c_{21} & c_{22}\n",
    "\\end{array}\n",
    "\\right)$$\n"
   ]
  },
  {
   "cell_type": "markdown",
   "id": "c65f4e13",
   "metadata": {},
   "source": [
    "## 重要定律定理\n",
    "## 弱大数定律(辛钦大数定律)\n",
    "对于服从同一分布的大量相互独立的事件，其随机变量值的算数平均数接近数学期望。\n",
    "### 条件\n",
    "- $X_1,X_2,X_3,...$相互独立且服从同一分布\n",
    "- $E(X_k)=\\mu, \\ (k=1,2,3...)$\n",
    "- $\\overline{X}=\\frac{1}{n}\\sum\\limits_{k=1}^{n}X_k$\n",
    "\n",
    "### 结论\n",
    "平均数接近期望\n",
    "- $\\forall \\epsilon \\rightarrow \\lim\\limits_{n \\rightarrow \\infty}{}P\\{|\\frac{1}{n}\\sum\\limits_{k=1}^{n}X_k-\\mu|<\\epsilon\\}=1$\n",
    "- $\\overline{X} \\stackrel{P}\\longrightarrow a$\n",
    "\n",
    "## 随机变量数列 依概率收敛\n",
    "### 条件\n",
    "- $Y_1, Y_2, ..., Y_n, ...$是一个随机变量序列x_n\n",
    "- $a$是一个常数\n",
    "- $\\exists \\epsilon,\\lim\\limits_{n \\rightarrow \\infty}P\\{|Y_n-a|<\\epsilon\\}=1$\n",
    "\n",
    "### 结论\n",
    "- x_n依概率收敛于a: $Y_n \\stackrel{P}\\longrightarrow a$\n",
    "\n",
    "## 伯努利大数定理\n",
    "### 条件\n",
    "- $f_a$ 是n次独立重复试验中事件A发生的次数\n",
    "- p是事件A在每次试验中发生的概率\n",
    "\n",
    "### 结论\n",
    "- $\\forall \\epsilon,\\ \\lim\\limits_{n \\rightarrow \\infty}P\\{|\\frac{f_A}{n}-p|< \\epsilon\\}=1$"
   ]
  },
  {
   "cell_type": "markdown",
   "id": "9c5df98e",
   "metadata": {},
   "source": [
    "## 中心极限定理\n",
    "一个事件A的概率可能受大量独立事件的概率影响，而每个独立事件影响都很小，那么 A的概率分布就是正态分布\n",
    "### 定理1\n",
    "#### 条件\n",
    "- 随机变量$X_1, X_2,...,X_n, ...$相互独立，且服务同一分布\n",
    "- 存在数学期望和方差：$E(X_k)=\\mu, D(X_k)=\\sigma^2 > 0 (k=1,2,...)$\n",
    "\n",
    "\n",
    "#### 结论\n",
    "- $\\sum\\limits_{k=1}^{n}X_k$的标准化变量\n",
    "$$\n",
    "Y_n=\\frac{\\sum\\limits_{k=1}^{n}X_k-E(\\sum\\limits_{k=1}^{n}X_k)}{\\sqrt{D(\\sum\\limits_{k=1}^{n}X_k)}} = \\frac{\\sum\\limits_{k=1}^nX_k-n\\mu}{\\sqrt{n}\\sigma}\n",
    "$$\n",
    "- $Y_n$的分布函数：\n",
    "$$\n",
    "\\lim\\limits_{n\\rightarrow \\infty}F_n(x) = \\lim\\limits_{n\\rightarrow \\infty}P\\left\\{\\frac{\\sum\\limits_{k=1}^{n}X_k-n\\mu}{\\sqrt{n}\\sigma}\\le x\\right\\} = \n",
    "\\int_{-\\infty}^{x} \\frac{1}{\\sqrt{2\\pi}}e^{-t^2/2}dt = \\Phi\n",
    "$$"
   ]
  }
 ],
 "metadata": {
  "kernelspec": {
   "display_name": "Python 3 (ipykernel)",
   "language": "python",
   "name": "python3"
  },
  "language_info": {
   "codemirror_mode": {
    "name": "ipython",
    "version": 3
   },
   "file_extension": ".py",
   "mimetype": "text/x-python",
   "name": "python",
   "nbconvert_exporter": "python",
   "pygments_lexer": "ipython3",
   "version": "3.8.11"
  }
 },
 "nbformat": 4,
 "nbformat_minor": 5
}
