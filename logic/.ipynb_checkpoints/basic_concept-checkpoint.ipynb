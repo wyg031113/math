{
 "cells": [
  {
   "cell_type": "markdown",
   "id": "5f104a65",
   "metadata": {},
   "source": [
    "# 基本概念"
   ]
  },
  {
   "cell_type": "markdown",
   "id": "5cd349d5",
   "metadata": {},
   "source": [
    "## 命题\n",
    "- 陈述事实的句子P。\n",
    "- 句子能判断真假\n",
    "- 句子要么真，要假。不能既真又假。\n",
    "- 有限个命题通过有限种运算符进行有限次组合后还是命题\n",
    "\n",
    "### 父概念\n",
    "- 句子\n",
    "- 真\n",
    "- 假\n",
    "- 有限\n",
    "- 命题运算，包括运算方式，组合规则\n",
    "\n",
    "\n",
    "### 约束\n",
    "- 陈述事实\n",
    "- 能判断\n",
    "- 有确定唯一的真假状态"
   ]
  },
  {
   "cell_type": "markdown",
   "id": "de7b7622",
   "metadata": {},
   "source": [
    "## 真值表\n",
    "- 表格中的值只有真和假两种的表格\n",
    "- 对表格的列数和行数没有限制，举例如下：\n",
    "|P1|P2|\n",
    "|:----|:----|\n",
    "|真|假|\n",
    "|假|真|\n",
    "\n",
    "### 父概念\n",
    "- 表格\n",
    "- 表格的取值\n",
    "- 真\n",
    "- 假\n",
    "\n",
    "### 约束\n",
    "- 表格的取值只能是真，假这两个值。"
   ]
  },
  {
   "cell_type": "markdown",
   "id": "157bedd2",
   "metadata": {},
   "source": []
  },
  {
   "cell_type": "markdown",
   "id": "a0d8d7cc",
   "metadata": {},
   "source": [
    "## 命题运算定义"
   ]
  },
  {
   "cell_type": "markdown",
   "id": "d0f0e6e9",
   "metadata": {},
   "source": [
    "### 非\n",
    "规定运算符号：$\\neg$\n",
    "- 非真等于假 $\\neg True = False$\n",
    "- 非假等于真 $\\neg False = True$\n",
    "- 命题P可能是真，可能是假，取不同值时非P对应如下：\n",
    "|$P$|$\\neg P$|\n",
    "|:----|:----|\n",
    "|True|False|\n",
    "|False|True|\n",
    "\n",
    "#### 父概念\n",
    "- 真 True\n",
    "- 假 False\n",
    "- 等于 =\n",
    "- 命题\n",
    "- 真值表\n",
    "\n",
    "#### 约束\n",
    "- 等于 =\n",
    "- 表格例举了所有运算情况和结果。"
   ]
  },
  {
   "cell_type": "markdown",
   "id": "3ea4c123",
   "metadata": {},
   "source": [
    "### 或，合取\n",
    "规定运算符号：$\\wedge$\n",
    "- 运算规则真值表:\n",
    "\n",
    "#### 父概念\n",
    "#### 约束"
   ]
  },
  {
   "cell_type": "markdown",
   "id": "e8dcd736",
   "metadata": {},
   "source": [
    "### 与，析取\n",
    "规定运算符号：$\\vee$\n",
    "- 运算规则真值表:\n",
    "\n",
    "#### 父概念\n",
    "#### 约束"
   ]
  },
  {
   "cell_type": "markdown",
   "id": "51bd6d57",
   "metadata": {},
   "source": [
    "\n",
    "### 单条件： 蕴含\n",
    "如果A那么B，若A则B，A蕴含B\n",
    "- 规定符号：$A \\rightarrow B$\n",
    "- A, B是命题\n",
    "- 真值表"
   ]
  },
  {
   "cell_type": "markdown",
   "id": "8c5d724a",
   "metadata": {},
   "source": [
    "### 双条件： 当前仅当\n",
    "如果A那么B 析取 如果B那么A。 A当前仅当B\n",
    "- 规定符号：$A \\leftrightarrow B$\n",
    "- A, B是命题\n",
    "- 真值表"
   ]
  },
  {
   "cell_type": "markdown",
   "id": "cef62f33",
   "metadata": {},
   "source": [
    "## 逆命题\n",
    "## 反命题\n",
    "## 否命题\n",
    "## 逆否命题"
   ]
  },
  {
   "cell_type": "markdown",
   "id": "a97d8760",
   "metadata": {},
   "source": [
    "## 运算符优先级"
   ]
  },
  {
   "cell_type": "markdown",
   "id": "f5a96307",
   "metadata": {},
   "source": [
    "## 谓词\n",
    "- 命题语句(主谓宾)中的谓语和宾语叫作谓词P。\n",
    "- 主语可变记作x\n",
    "- 这个命题可表示为P(x)"
   ]
  },
  {
   "cell_type": "markdown",
   "id": "587ea371",
   "metadata": {},
   "source": [
    "## 量词\n",
    "### 全称量词\n",
    "- 对某限定集合S中的每个元素x，命题P(x)为真: $\\forall (x \\in S) P(X)$\n",
    "\n",
    "### 存在量词\n",
    "- 对某限定集合S中的存在一个或者多个元素x，命题P(x)为真: $\\exists (x \\in S)  P(X)$\n",
    "\n",
    "### 唯一量词\n",
    "- 对某限定集合S中的存在一个且仅有一个元素x，命题P(x)为真: $\\exists ! (x \\in S)  P(X)$\n",
    "\n",
    "#### 父概念\n",
    "- 集合\n",
    "- 集合元素\n",
    "- 属于\n",
    "- 一个， 多个， 每个"
   ]
  },
  {
   "cell_type": "markdown",
   "id": "96232880",
   "metadata": {},
   "source": [
    "## 摩根律\n",
    "- $\\neg\\exists xP(x) \\leftrightarrow \\forall x \\neg P(x)$\n",
    "- $\\neg \\forall xP(x) \\leftrightarrow \\exists x \\neg P(x)$"
   ]
  },
  {
   "cell_type": "markdown",
   "id": "ed7af160",
   "metadata": {},
   "source": [
    "# 证明定理的方法"
   ]
  },
  {
   "cell_type": "markdown",
   "id": "ba6ad887",
   "metadata": {},
   "source": [
    "## 解析法， 直接证明法\n",
    "- 已知命题P中已经蕴含了待证明命题Q。 只需要通过合适的运算连接P和Q"
   ]
  },
  {
   "cell_type": "markdown",
   "id": "e1cdded2",
   "metadata": {},
   "source": [
    "## 反证法"
   ]
  },
  {
   "cell_type": "markdown",
   "id": "8108e44d",
   "metadata": {},
   "source": [
    "## 归谬法"
   ]
  }
 ],
 "metadata": {
  "kernelspec": {
   "display_name": "Python 3 (ipykernel)",
   "language": "python",
   "name": "python3"
  },
  "language_info": {
   "codemirror_mode": {
    "name": "ipython",
    "version": 3
   },
   "file_extension": ".py",
   "mimetype": "text/x-python",
   "name": "python",
   "nbconvert_exporter": "python",
   "pygments_lexer": "ipython3",
   "version": "3.8.11"
  }
 },
 "nbformat": 4,
 "nbformat_minor": 5
}
