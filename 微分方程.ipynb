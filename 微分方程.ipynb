{
 "cells": [
  {
   "cell_type": "markdown",
   "id": "8877e43b",
   "metadata": {},
   "source": [
    "# 微分方程 differential equations\n",
    "含导数的方程，解是个函数。\n",
    "## 定义\n",
    "- $F(x,y,y',y'',...,y^{(n)}) = 0$ 其中 $y=f(x)$, 最高阶导数是n\n",
    "- 上述方程为微分方程，内含未知函数和未知函数导数的方程叫微分方程。 最高阶导数是微分方程的阶\n",
    "- $F(x,y)$也是微分方程\n",
    "- 如果能找到f(x)上方程F在区间I上恒等于0，则f(x)叫微分方程的解。 普通方程的解是个数，微分方程的解是个函数。\n",
    "- 如果微分方程中含有n个任意常数，则此解为微分方程的通解。\n",
    "- 通解中的常数$x=x_0, y=y_0, y'=y'_0,y''=y''_0,...,y^{n}=y^{n}_0$ 也写成$y|_{x=x_0}=y_0,y'|_{x=x_0}=y'_0,...$\n",
    "- $x_0,y_0,y'_0...$是微分方程的初始条件"
   ]
  },
  {
   "cell_type": "markdown",
   "id": "626efe81",
   "metadata": {},
   "source": [
    "# 微分方程求解\n",
    "## 可分离变量的微分方程\n",
    "### 形式\n",
    "- $P(x,y)dx+Q(x,y)dy = 0 \\rightarrow \\frac{dy}{dx}=-\\frac{P(x,y)}{Q(x,y)}$"
   ]
  },
  {
   "cell_type": "code",
   "execution_count": null,
   "id": "0716adca",
   "metadata": {},
   "outputs": [],
   "source": []
  }
 ],
 "metadata": {
  "kernelspec": {
   "display_name": "Python 3 (ipykernel)",
   "language": "python",
   "name": "python3"
  },
  "language_info": {
   "codemirror_mode": {
    "name": "ipython",
    "version": 3
   },
   "file_extension": ".py",
   "mimetype": "text/x-python",
   "name": "python",
   "nbconvert_exporter": "python",
   "pygments_lexer": "ipython3",
   "version": "3.8.11"
  }
 },
 "nbformat": 4,
 "nbformat_minor": 5
}
